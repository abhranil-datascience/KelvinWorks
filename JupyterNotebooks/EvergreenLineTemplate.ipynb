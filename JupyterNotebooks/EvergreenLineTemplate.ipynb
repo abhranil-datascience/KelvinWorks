{
 "cells": [
  {
   "cell_type": "code",
   "execution_count": 1,
   "metadata": {},
   "outputs": [],
   "source": [
    "from pdf2image import convert_from_path\n",
    "InputFile=\"../InputFiles/Evergreen/EvergreenPDFWithImage.pdf\"\n",
    "images = convert_from_path(InputFile,dpi=500)\n",
    "current_image=images[0]\n",
    "current_image=current_image.convert('LA')\n",
    "current_image.save(\"TestImage.png\")"
   ]
  },
  {
   "cell_type": "code",
   "execution_count": 2,
   "metadata": {},
   "outputs": [
    {
     "data": {
      "text/plain": [
       "True"
      ]
     },
     "execution_count": 2,
     "metadata": {},
     "output_type": "execute_result"
    }
   ],
   "source": [
    "import cv2\n",
    "currentImage=cv2.imread(\"TestImage.png\")\n",
    "currentImage[currentImage<25]=0\n",
    "currentImage[(currentImage!=0) & (currentImage!=255)]=255\n",
    "cv2.imwrite(\"TestImage.png\",currentImage)"
   ]
  },
  {
   "cell_type": "code",
   "execution_count": 3,
   "metadata": {},
   "outputs": [],
   "source": [
    "from google.cloud import vision\n",
    "from google.cloud.vision import types\n",
    "from google.protobuf.json_format import MessageToDict\n",
    "import pandas as pd\n",
    "import io\n",
    "with io.open(\"TestImage.png\", 'rb') as gen_image_file:\n",
    "    content = gen_image_file.read()\n",
    "client = vision.ImageAnnotatorClient()\n",
    "image = vision.types.Image(content=content)\n",
    "response = client.text_detection(image=image)\n",
    "DictResponse=MessageToDict(response)"
   ]
  },
  {
   "cell_type": "code",
   "execution_count": 4,
   "metadata": {},
   "outputs": [],
   "source": [
    "WordsAndCoordinates=DictResponse['textAnnotations'][1:]\n",
    "word_list=[]\n",
    "llx_list=[]\n",
    "lly_list=[]\n",
    "lrx_list=[]\n",
    "lry_list=[]\n",
    "urx_list=[]\n",
    "ury_list=[]\n",
    "ulx_list=[]\n",
    "uly_list=[]\n",
    "for i in range(0,len(WordsAndCoordinates)):\n",
    "    word_list.append(WordsAndCoordinates[i]['description'])\n",
    "    llx_list.append(WordsAndCoordinates[i]['boundingPoly']['vertices'][0]['x'])\n",
    "    lly_list.append(WordsAndCoordinates[i]['boundingPoly']['vertices'][0]['y'])\n",
    "    lrx_list.append(WordsAndCoordinates[i]['boundingPoly']['vertices'][1]['x'])\n",
    "    lry_list.append(WordsAndCoordinates[i]['boundingPoly']['vertices'][1]['y'])\n",
    "    urx_list.append(WordsAndCoordinates[i]['boundingPoly']['vertices'][2]['x'])\n",
    "    ury_list.append(WordsAndCoordinates[i]['boundingPoly']['vertices'][2]['y'])\n",
    "    ulx_list.append(WordsAndCoordinates[i]['boundingPoly']['vertices'][3]['x'])\n",
    "    uly_list.append(WordsAndCoordinates[i]['boundingPoly']['vertices'][3]['y'])\n",
    "##################### Create Dictionary for the lists #####################\n",
    "WordsAndCoordinatesDict={\"Word\":word_list,'llx':llx_list,'lly':lly_list,'lrx':lrx_list,'lry':lry_list,'urx':urx_list,'ury':ury_list,'ulx':ulx_list,'uly':uly_list}\n",
    "WordsAndCoordinatesDF=pd.DataFrame.from_dict(WordsAndCoordinatesDict)"
   ]
  },
  {
   "cell_type": "code",
   "execution_count": 5,
   "metadata": {},
   "outputs": [
    {
     "data": {
      "text/plain": [
       "'080000235260'"
      ]
     },
     "execution_count": 5,
     "metadata": {},
     "output_type": "execute_result"
    }
   ],
   "source": [
    "no=WordsAndCoordinatesDF[WordsAndCoordinatesDF['Word'].isin(['BOOKING'])]\n",
    "No_uly=no['uly'].values[2]\n",
    "No_lly=no['lly'].values[2]\n",
    "No_urx=no['urx'].values[2]\n",
    "BookingNumber=WordsAndCoordinatesDF[(WordsAndCoordinatesDF['uly']>No_uly-20) &\n",
    "                                    (WordsAndCoordinatesDF['lly']<No_lly+20) &\n",
    "                                    (WordsAndCoordinatesDF['llx']>No_urx+70)]\n",
    "BookingNumber=\"\".join(BookingNumber['Word'].values).replace(\":\",\"\")\n",
    "BookingNumber"
   ]
  },
  {
   "cell_type": "code",
   "execution_count": 6,
   "metadata": {},
   "outputs": [
    {
     "data": {
      "text/plain": [
       "'EVER BONUS 0165-022N'"
      ]
     },
     "execution_count": 6,
     "metadata": {},
     "output_type": "execute_result"
    }
   ],
   "source": [
    "Vessel=WordsAndCoordinatesDF[WordsAndCoordinatesDF['Word'].isin(['VESSEL/VOYAGE'])]\n",
    "Vessel_uly=Vessel['uly'].values[0]\n",
    "Vessel_lly=Vessel['lly'].values[0]\n",
    "Vessel_urx=Vessel['urx'].values[0]\n",
    "Vessel=WordsAndCoordinatesDF[(WordsAndCoordinatesDF['uly']>Vessel_uly-40) &\n",
    "                             (WordsAndCoordinatesDF['lly']<Vessel_lly+40) &\n",
    "                             (WordsAndCoordinatesDF['llx']>Vessel_urx)]\n",
    "Vessel=\" \".join(Vessel['Word'].values).replace(\":\",\"\").strip()\n",
    "Vessel"
   ]
  },
  {
   "cell_type": "code",
   "execution_count": 7,
   "metadata": {},
   "outputs": [
    {
     "data": {
      "text/plain": [
       "'EVERGREEN LINE'"
      ]
     },
     "execution_count": 7,
     "metadata": {},
     "output_type": "execute_result"
    }
   ],
   "source": [
    "CARRIER=WordsAndCoordinatesDF[WordsAndCoordinatesDF['Word'].isin(['CARRIER'])]\n",
    "CARRIER_uly=CARRIER['uly'].values[0]\n",
    "CARRIER_lly=CARRIER['lly'].values[0]\n",
    "CARRIER_urx=CARRIER['urx'].values[0]\n",
    "CARRIER=WordsAndCoordinatesDF[(WordsAndCoordinatesDF['uly']>CARRIER_uly-40) &\n",
    "                             (WordsAndCoordinatesDF['lly']<CARRIER_lly+40) &\n",
    "                             (WordsAndCoordinatesDF['llx']>CARRIER_urx)]\n",
    "CARRIER=\" \".join(CARRIER['Word'].values).replace(\":\",\"\").strip()\n",
    "CARRIER"
   ]
  },
  {
   "cell_type": "code",
   "execution_count": 8,
   "metadata": {},
   "outputs": [
    {
     "data": {
      "text/plain": [
       "'EVERGREEN MARINE CORPORATION'"
      ]
     },
     "execution_count": 8,
     "metadata": {},
     "output_type": "execute_result"
    }
   ],
   "source": [
    "OnBehalfOf=WordsAndCoordinatesDF[WordsAndCoordinatesDF['Word'].isin(['OF'])]\n",
    "OnBehalfOf_uly=OnBehalfOf['uly'].values[0]\n",
    "OnBehalfOf_lly=OnBehalfOf['lly'].values[0]\n",
    "OnBehalfOf_urx=OnBehalfOf['urx'].values[0]\n",
    "OnBehalfOf=WordsAndCoordinatesDF[(WordsAndCoordinatesDF['uly']>OnBehalfOf_uly-40) &\n",
    "                             (WordsAndCoordinatesDF['lly']<OnBehalfOf_lly+40) &\n",
    "                             (WordsAndCoordinatesDF['llx']>OnBehalfOf_urx)]\n",
    "OnBehalfOf=\" \".join(OnBehalfOf['Word'].values).replace(\":\",\"\").strip()\n",
    "OnBehalfOf"
   ]
  },
  {
   "cell_type": "code",
   "execution_count": 9,
   "metadata": {},
   "outputs": [
    {
     "data": {
      "text/plain": [
       "'JAKARTA, INDONESIA'"
      ]
     },
     "execution_count": 9,
     "metadata": {},
     "output_type": "execute_result"
    }
   ],
   "source": [
    "PlaceOfReceipt=WordsAndCoordinatesDF[WordsAndCoordinatesDF['Word'].isin(['RECEIPT'])]\n",
    "PlaceOfReceipt_uly=PlaceOfReceipt['uly'].values[0]\n",
    "PlaceOfReceipt_lly=PlaceOfReceipt['lly'].values[0]\n",
    "PlaceOfReceipt_urx=PlaceOfReceipt['urx'].values[0]\n",
    "PlaceOfReceipt=WordsAndCoordinatesDF[(WordsAndCoordinatesDF['uly']>PlaceOfReceipt_uly-40) &\n",
    "                             (WordsAndCoordinatesDF['lly']<PlaceOfReceipt_lly+40) &\n",
    "                             (WordsAndCoordinatesDF['llx']>PlaceOfReceipt_urx)]\n",
    "PlaceOfReceipt=\" \".join(PlaceOfReceipt['Word'].values).replace(\":\",\"\").strip()\n",
    "PlaceOfReceipt"
   ]
  },
  {
   "cell_type": "code",
   "execution_count": 10,
   "metadata": {},
   "outputs": [
    {
     "data": {
      "text/plain": [
       "'JAKARTA, INDONESIA'"
      ]
     },
     "execution_count": 10,
     "metadata": {},
     "output_type": "execute_result"
    }
   ],
   "source": [
    "PlaceOfLoading=WordsAndCoordinatesDF[WordsAndCoordinatesDF['Word'].isin(['LOADING'])]\n",
    "PlaceOfLoading_uly=PlaceOfLoading['uly'].values[0]\n",
    "PlaceOfLoading_lly=PlaceOfLoading['lly'].values[0]\n",
    "PlaceOfLoading_urx=PlaceOfLoading['urx'].values[0]\n",
    "PlaceOfLoading=WordsAndCoordinatesDF[(WordsAndCoordinatesDF['uly']>PlaceOfLoading_uly-40) &\n",
    "                             (WordsAndCoordinatesDF['lly']<PlaceOfLoading_lly+40) &\n",
    "                             (WordsAndCoordinatesDF['llx']>PlaceOfLoading_urx)]\n",
    "PlaceOfLoading=\" \".join(PlaceOfLoading['Word'].values).replace(\":\",\"\").strip()\n",
    "PlaceOfLoading"
   ]
  },
  {
   "cell_type": "code",
   "execution_count": 11,
   "metadata": {},
   "outputs": [
    {
     "data": {
      "text/plain": [
       "'2020/05/29 22:00'"
      ]
     },
     "execution_count": 11,
     "metadata": {},
     "output_type": "execute_result"
    }
   ],
   "source": [
    "ClosingTime=WordsAndCoordinatesDF[WordsAndCoordinatesDF['Word'].isin(['TIME'])]\n",
    "ClosingTime_uly=ClosingTime['uly'].values[0]\n",
    "ClosingTime_lly=ClosingTime['lly'].values[0]\n",
    "ClosingTime_urx=ClosingTime['urx'].values[0]\n",
    "ClosingTime=WordsAndCoordinatesDF[(WordsAndCoordinatesDF['uly']>ClosingTime_uly-40) &\n",
    "                             (WordsAndCoordinatesDF['lly']<ClosingTime_lly+40) &\n",
    "                             (WordsAndCoordinatesDF['llx']>ClosingTime_urx)]\n",
    "ClosingTime=\" \".join(ClosingTime['Word'].values).strip()[1:]\n",
    "ClosingTime"
   ]
  },
  {
   "cell_type": "code",
   "execution_count": 12,
   "metadata": {},
   "outputs": [
    {
     "data": {
      "text/plain": [
       "'2020/05/29 17:00'"
      ]
     },
     "execution_count": 12,
     "metadata": {},
     "output_type": "execute_result"
    }
   ],
   "source": [
    "CutOffDate=WordsAndCoordinatesDF[WordsAndCoordinatesDF['Word'].isin(['DATE'])]\n",
    "CutOffDate_uly=CutOffDate['uly'].values[0]\n",
    "CutOffDate_lly=CutOffDate['lly'].values[0]\n",
    "CutOffDate_urx=CutOffDate['urx'].values[0]\n",
    "CutOffDate=WordsAndCoordinatesDF[(WordsAndCoordinatesDF['uly']>CutOffDate_uly-40) &\n",
    "                             (WordsAndCoordinatesDF['lly']<CutOffDate_lly+40) &\n",
    "                             (WordsAndCoordinatesDF['llx']>CutOffDate_urx)]\n",
    "CutOffDate=\" \".join(CutOffDate['Word'].values).strip()[1:]\n",
    "CutOffDate"
   ]
  },
  {
   "cell_type": "code",
   "execution_count": 13,
   "metadata": {},
   "outputs": [
    {
     "data": {
      "text/plain": [
       "'2020/05/31'"
      ]
     },
     "execution_count": 13,
     "metadata": {},
     "output_type": "execute_result"
    }
   ],
   "source": [
    "LoadingEtaDate=WordsAndCoordinatesDF[WordsAndCoordinatesDF['Word'].isin(['DATE'])]\n",
    "LoadingEtaDate_uly=LoadingEtaDate['uly'].values[1]\n",
    "LoadingEtaDate_lly=LoadingEtaDate['lly'].values[1]\n",
    "LoadingEtaDate_urx=LoadingEtaDate['urx'].values[1]\n",
    "LoadingEtaDate=WordsAndCoordinatesDF[(WordsAndCoordinatesDF['uly']>LoadingEtaDate_uly-40) &\n",
    "                             (WordsAndCoordinatesDF['lly']<LoadingEtaDate_lly+40) &\n",
    "                             (WordsAndCoordinatesDF['llx']>LoadingEtaDate_urx)]\n",
    "LoadingEtaDate=\" \".join(LoadingEtaDate['Word'].values).strip()[1:]\n",
    "LoadingEtaDate"
   ]
  },
  {
   "cell_type": "code",
   "execution_count": 14,
   "metadata": {},
   "outputs": [
    {
     "data": {
      "text/plain": [
       "'KAOHSIUNG, TAIWAN'"
      ]
     },
     "execution_count": 14,
     "metadata": {},
     "output_type": "execute_result"
    }
   ],
   "source": [
    "PortOfDischarging=WordsAndCoordinatesDF[WordsAndCoordinatesDF['Word'].isin(['DISCHARGING'])]\n",
    "PortOfDischarging_uly=PortOfDischarging['uly'].values[0]\n",
    "PortOfDischarging_lly=PortOfDischarging['lly'].values[0]\n",
    "PortOfDischarging_urx=PortOfDischarging['urx'].values[0]\n",
    "PortOfDischarging=WordsAndCoordinatesDF[(WordsAndCoordinatesDF['uly']>PortOfDischarging_uly-40) &\n",
    "                             (WordsAndCoordinatesDF['lly']<PortOfDischarging_lly+40) &\n",
    "                             (WordsAndCoordinatesDF['llx']>PortOfDischarging_urx)]\n",
    "PortOfDischarging=\" \".join(PortOfDischarging['Word'].values).strip()[1:]\n",
    "PortOfDischarging"
   ]
  },
  {
   "cell_type": "code",
   "execution_count": 15,
   "metadata": {},
   "outputs": [
    {
     "data": {
      "text/plain": [
       "' KAOHSIUNG, TAIWAN'"
      ]
     },
     "execution_count": 15,
     "metadata": {},
     "output_type": "execute_result"
    }
   ],
   "source": [
    "FinalDestination=WordsAndCoordinatesDF[WordsAndCoordinatesDF['Word'].isin(['DESTINATION'])]\n",
    "FinalDestination_uly=FinalDestination['uly'].values[0]\n",
    "FinalDestination_lly=FinalDestination['lly'].values[0]\n",
    "FinalDestination_urx=FinalDestination['urx'].values[0]\n",
    "FinalDestination=WordsAndCoordinatesDF[(WordsAndCoordinatesDF['uly']>FinalDestination_uly-40) &\n",
    "                             (WordsAndCoordinatesDF['lly']<FinalDestination_lly+40) &\n",
    "                             (WordsAndCoordinatesDF['llx']>FinalDestination_urx)]\n",
    "FinalDestination=\" \".join(FinalDestination['Word'].values).strip()[1:]\n",
    "FinalDestination"
   ]
  },
  {
   "cell_type": "code",
   "execution_count": 16,
   "metadata": {},
   "outputs": [
    {
     "data": {
      "text/plain": [
       "'2020/06/11 (SUBJECT TO CHANGE WITHOUT PRIOR NOTICE)'"
      ]
     },
     "execution_count": 16,
     "metadata": {},
     "output_type": "execute_result"
    }
   ],
   "source": [
    "DestinationEtaDate=WordsAndCoordinatesDF[WordsAndCoordinatesDF['Word'].isin(['DATE'])]\n",
    "DestinationEtaDate_uly=DestinationEtaDate['uly'].values[2]\n",
    "DestinationEtaDate_lly=DestinationEtaDate['lly'].values[2]\n",
    "DestinationEtaDate_urx=DestinationEtaDate['urx'].values[2]\n",
    "DestinationEtaDate=WordsAndCoordinatesDF[(WordsAndCoordinatesDF['uly']>DestinationEtaDate_uly-40) &\n",
    "                             (WordsAndCoordinatesDF['lly']<DestinationEtaDate_lly+40) &\n",
    "                             (WordsAndCoordinatesDF['llx']>DestinationEtaDate_urx)]\n",
    "DestinationEtaDate=\" \".join(DestinationEtaDate['Word'].values).strip()[1:]\n",
    "DestinationEtaDate"
   ]
  },
  {
   "cell_type": "code",
   "execution_count": 17,
   "metadata": {},
   "outputs": [
    {
     "data": {
      "text/plain": [
       "'MACOLINE INDONESIA, PT'"
      ]
     },
     "execution_count": 17,
     "metadata": {},
     "output_type": "execute_result"
    }
   ],
   "source": [
    "Customer=WordsAndCoordinatesDF[WordsAndCoordinatesDF['Word'].isin(['CUSTOMER'])]\n",
    "Customer_uly=Customer['uly'].values[0]\n",
    "Customer_lly=Customer['lly'].values[0]\n",
    "Customer_urx=Customer['urx'].values[0]\n",
    "Customer=WordsAndCoordinatesDF[(WordsAndCoordinatesDF['uly']>Customer_uly-40) &\n",
    "                             (WordsAndCoordinatesDF['lly']<Customer_lly+40) &\n",
    "                             (WordsAndCoordinatesDF['llx']>Customer_urx)]\n",
    "Customer=\" \".join(Customer['Word'].values).strip()[1:].strip()\n",
    "Customer"
   ]
  },
  {
   "cell_type": "code",
   "execution_count": 18,
   "metadata": {},
   "outputs": [
    {
     "data": {
      "text/plain": [
       "'SELAMAT SEMPURNA TBK., PT'"
      ]
     },
     "execution_count": 18,
     "metadata": {},
     "output_type": "execute_result"
    }
   ],
   "source": [
    "Shipper=WordsAndCoordinatesDF[WordsAndCoordinatesDF['Word'].isin(['SHIPPER'])]\n",
    "Shipper_uly=Shipper['uly'].values[0]\n",
    "Shipper_lly=Shipper['lly'].values[0]\n",
    "Shipper_urx=Shipper['urx'].values[0]\n",
    "Shipper=WordsAndCoordinatesDF[(WordsAndCoordinatesDF['uly']>Shipper_uly-40) &\n",
    "                             (WordsAndCoordinatesDF['lly']<Shipper_lly+40) &\n",
    "                             (WordsAndCoordinatesDF['llx']>Shipper_urx)]\n",
    "Shipper=\" \".join(Shipper['Word'].values).strip()[1:].strip()\n",
    "Shipper"
   ]
  },
  {
   "cell_type": "code",
   "execution_count": 19,
   "metadata": {},
   "outputs": [
    {
     "data": {
      "text/plain": [
       "'(FCL/FCL)/ (PORT/PORT)'"
      ]
     },
     "execution_count": 19,
     "metadata": {},
     "output_type": "execute_result"
    }
   ],
   "source": [
    "ServiceMode=WordsAndCoordinatesDF[WordsAndCoordinatesDF['Word'].isin(['TYPE/MODE'])]\n",
    "ServiceMode_uly=ServiceMode['uly'].values[0]\n",
    "ServiceMode_lly=ServiceMode['lly'].values[0]\n",
    "ServiceMode_urx=ServiceMode['urx'].values[0]\n",
    "ServiceMode=WordsAndCoordinatesDF[(WordsAndCoordinatesDF['uly']>ServiceMode_uly-40) &\n",
    "                             (WordsAndCoordinatesDF['lly']<ServiceMode_lly+40) &\n",
    "                             (WordsAndCoordinatesDF['llx']>ServiceMode_urx)]\n",
    "ServiceMode=\" \".join(ServiceMode['Word'].values).strip()[1:].strip()\n",
    "ServiceMode"
   ]
  },
  {
   "cell_type": "code",
   "execution_count": 20,
   "metadata": {},
   "outputs": [
    {
     "data": {
      "text/plain": [
       "'MERCHANT HAULAGE'"
      ]
     },
     "execution_count": 20,
     "metadata": {},
     "output_type": "execute_result"
    }
   ],
   "source": [
    "PRE_CARRIAGE=WordsAndCoordinatesDF[WordsAndCoordinatesDF['Word'].isin(['PRE-CARRIAGE'])]\n",
    "PRE_CARRIAGE_uly=PRE_CARRIAGE['uly'].values[0]\n",
    "PRE_CARRIAGE_lly=PRE_CARRIAGE['lly'].values[0]\n",
    "PRE_CARRIAGE_urx=PRE_CARRIAGE['urx'].values[0]\n",
    "PRE_CARRIAGE=WordsAndCoordinatesDF[(WordsAndCoordinatesDF['uly']>PRE_CARRIAGE_uly-40) &\n",
    "                             (WordsAndCoordinatesDF['lly']<PRE_CARRIAGE_lly+40) &\n",
    "                             (WordsAndCoordinatesDF['llx']>PRE_CARRIAGE_urx)]\n",
    "PRE_CARRIAGE=\" \".join(PRE_CARRIAGE['Word'].values).strip()[1:].strip()\n",
    "PRE_CARRIAGE"
   ]
  },
  {
   "cell_type": "code",
   "execution_count": 21,
   "metadata": {},
   "outputs": [
    {
     "data": {
      "text/plain": [
       "'GAL RADIATOR & FLUX'"
      ]
     },
     "execution_count": 21,
     "metadata": {},
     "output_type": "execute_result"
    }
   ],
   "source": [
    "Commodity=WordsAndCoordinatesDF[WordsAndCoordinatesDF['Word'].isin(['COMMODITY'])]\n",
    "Commodity_uly=Commodity['uly'].values[0]\n",
    "Commodity_lly=Commodity['lly'].values[0]\n",
    "Commodity_urx=Commodity['urx'].values[0]\n",
    "Commodity=WordsAndCoordinatesDF[(WordsAndCoordinatesDF['uly']>Commodity_uly-40) &\n",
    "                             (WordsAndCoordinatesDF['lly']<Commodity_lly+40) &\n",
    "                             (WordsAndCoordinatesDF['llx']>Commodity_urx)]\n",
    "Commodity=\" \".join(Commodity['Word'].values).strip()[1:].strip()\n",
    "Commodity"
   ]
  },
  {
   "cell_type": "code",
   "execution_count": 22,
   "metadata": {},
   "outputs": [
    {
     "data": {
      "text/plain": [
       "'PT. MULTI BINA PURA INTERNATIONAL'"
      ]
     },
     "execution_count": 22,
     "metadata": {},
     "output_type": "execute_result"
    }
   ],
   "source": [
    "EmptyPickUpAt=WordsAndCoordinatesDF[WordsAndCoordinatesDF['Word'].isin(['UP'])]\n",
    "EmptyPickUpAt_uly=EmptyPickUpAt['uly'].values[0]\n",
    "EmptyPickUpAt_lly=EmptyPickUpAt['lly'].values[0]\n",
    "EmptyPickUpAt_urx=EmptyPickUpAt['urx'].values[0]\n",
    "EmptyPickUpAt=WordsAndCoordinatesDF[(WordsAndCoordinatesDF['uly']>EmptyPickUpAt_uly-40) &\n",
    "                             (WordsAndCoordinatesDF['lly']<EmptyPickUpAt_lly+40) &\n",
    "                             (WordsAndCoordinatesDF['llx']>EmptyPickUpAt_urx)]\n",
    "EmptyPickUpAt=\" \".join(EmptyPickUpAt['Word'].values).strip().strip()\n",
    "desired_index=EmptyPickUpAt.index(\":\")\n",
    "EmptyPickUpAt=EmptyPickUpAt[desired_index+1:]\n",
    "EmptyPickUpAt"
   ]
  },
  {
   "cell_type": "code",
   "execution_count": 23,
   "metadata": {},
   "outputs": [
    {
     "data": {
      "text/plain": [
       "'PT NEW PRIOK CONTAINER TERMINAL ONE'"
      ]
     },
     "execution_count": 23,
     "metadata": {},
     "output_type": "execute_result"
    }
   ],
   "source": [
    "FullReturnTo=WordsAndCoordinatesDF[WordsAndCoordinatesDF['Word'].isin(['TO'])]\n",
    "FullReturnTo_uly=FullReturnTo['uly'].values[1]\n",
    "FullReturnTo_lly=FullReturnTo['lly'].values[1]\n",
    "FullReturnTo_urx=FullReturnTo['urx'].values[1]\n",
    "FullReturnTo=WordsAndCoordinatesDF[(WordsAndCoordinatesDF['uly']>FullReturnTo_uly-40) &\n",
    "                             (WordsAndCoordinatesDF['lly']<FullReturnTo_lly+40) &\n",
    "                             (WordsAndCoordinatesDF['llx']>FullReturnTo_urx)]\n",
    "FullReturnTo=\" \".join(FullReturnTo['Word'].values).strip()[1:].strip()\n",
    "FullReturnTo"
   ]
  },
  {
   "cell_type": "code",
   "execution_count": 24,
   "metadata": {},
   "outputs": [
    {
     "data": {
      "text/plain": [
       "\"1 /20' STANDARD DRY\""
      ]
     },
     "execution_count": 24,
     "metadata": {},
     "output_type": "execute_result"
    }
   ],
   "source": [
    "GWT=WordsAndCoordinatesDF[WordsAndCoordinatesDF['Word'].isin(['GWT+TARE'])]\n",
    "Limit=WordsAndCoordinatesDF[WordsAndCoordinatesDF['Word'].isin(['LIMIT'])]\n",
    "GWT_LLX=GWT['llx'].values[0]\n",
    "Limit_LLX=Limit['llx'].values[0]\n",
    "GWT_LLY=GWT['lly'].values[0]\n",
    "QuantityandType=WordsAndCoordinatesDF[(WordsAndCoordinatesDF['lly']>GWT_LLY+20) &\n",
    "                                      (WordsAndCoordinatesDF['uly']<EmptyPickUpAt_uly-20) & \n",
    "                                      (WordsAndCoordinatesDF['urx']<GWT_LLX)]\n",
    "QuantityandType=\" \".join(QuantityandType['Word'].values).strip()\n",
    "QuantityandType"
   ]
  },
  {
   "cell_type": "code",
   "execution_count": 25,
   "metadata": {},
   "outputs": [
    {
     "data": {
      "text/plain": [
       "'+2,400'"
      ]
     },
     "execution_count": 25,
     "metadata": {},
     "output_type": "execute_result"
    }
   ],
   "source": [
    "GWTandWeight =WordsAndCoordinatesDF[(WordsAndCoordinatesDF['lly']>GWT_LLY+20) &\n",
    "                                      (WordsAndCoordinatesDF['uly']<EmptyPickUpAt_uly-20) & \n",
    "                                      (WordsAndCoordinatesDF['llx']>=GWT_LLX) &\n",
    "                                    (WordsAndCoordinatesDF['urx']<=Limit_LLX)]\n",
    "GWTandWeight=\" \".join(GWTandWeight['Word'].values).strip()\n",
    "desired_index=GWTandWeight.index('+')\n",
    "Weight=GWTandWeight[desired_index:]\n",
    "Weight"
   ]
  }
 ],
 "metadata": {
  "kernelspec": {
   "display_name": "Python 3",
   "language": "python",
   "name": "python3"
  },
  "language_info": {
   "codemirror_mode": {
    "name": "ipython",
    "version": 3
   },
   "file_extension": ".py",
   "mimetype": "text/x-python",
   "name": "python",
   "nbconvert_exporter": "python",
   "pygments_lexer": "ipython3",
   "version": "3.7.7"
  }
 },
 "nbformat": 4,
 "nbformat_minor": 4
}
