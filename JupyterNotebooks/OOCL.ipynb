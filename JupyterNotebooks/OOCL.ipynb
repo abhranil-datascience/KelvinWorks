{
 "cells": [
  {
   "cell_type": "code",
   "execution_count": 1,
   "metadata": {},
   "outputs": [],
   "source": [
    "from pdf2image import convert_from_path\n",
    "InputFile=\"../InputFiles/OOCL/OOCL.pdf\"\n",
    "images = convert_from_path(InputFile,dpi=500)\n",
    "current_image=images[0]\n",
    "current_image=current_image.convert('LA')\n",
    "current_image.save(\"TestImage.png\")"
   ]
  },
  {
   "cell_type": "code",
   "execution_count": 2,
   "metadata": {},
   "outputs": [
    {
     "data": {
      "text/plain": [
       "True"
      ]
     },
     "execution_count": 2,
     "metadata": {},
     "output_type": "execute_result"
    }
   ],
   "source": [
    "import cv2\n",
    "currentImage=cv2.imread(\"../InputFiles/OOCL/OOCL.png\")\n",
    "#currentImage[currentImage<25]=0\n",
    "#currentImage[(currentImage!=0) & (currentImage!=255)]=255\n",
    "cv2.imwrite(\"TestImage.png\",currentImage)"
   ]
  },
  {
   "cell_type": "code",
   "execution_count": 3,
   "metadata": {},
   "outputs": [],
   "source": [
    "from google.cloud import vision\n",
    "from google.cloud.vision import types\n",
    "from google.protobuf.json_format import MessageToDict\n",
    "import pandas as pd\n",
    "import io\n",
    "with io.open(\"TestImage.png\", 'rb') as gen_image_file:\n",
    "    content = gen_image_file.read()\n",
    "client = vision.ImageAnnotatorClient()\n",
    "image = vision.types.Image(content=content)\n",
    "response = client.text_detection(image=image)\n",
    "DictResponse=MessageToDict(response)"
   ]
  },
  {
   "cell_type": "code",
   "execution_count": 4,
   "metadata": {},
   "outputs": [],
   "source": [
    "WordsAndCoordinates=DictResponse['textAnnotations'][1:]\n",
    "word_list=[]\n",
    "llx_list=[]\n",
    "lly_list=[]\n",
    "lrx_list=[]\n",
    "lry_list=[]\n",
    "urx_list=[]\n",
    "ury_list=[]\n",
    "ulx_list=[]\n",
    "uly_list=[]\n",
    "for i in range(0,len(WordsAndCoordinates)):\n",
    "    word_list.append(WordsAndCoordinates[i]['description'])\n",
    "    llx_list.append(WordsAndCoordinates[i]['boundingPoly']['vertices'][0]['x'])\n",
    "    lly_list.append(WordsAndCoordinates[i]['boundingPoly']['vertices'][0]['y'])\n",
    "    lrx_list.append(WordsAndCoordinates[i]['boundingPoly']['vertices'][1]['x'])\n",
    "    lry_list.append(WordsAndCoordinates[i]['boundingPoly']['vertices'][1]['y'])\n",
    "    urx_list.append(WordsAndCoordinates[i]['boundingPoly']['vertices'][2]['x'])\n",
    "    ury_list.append(WordsAndCoordinates[i]['boundingPoly']['vertices'][2]['y'])\n",
    "    ulx_list.append(WordsAndCoordinates[i]['boundingPoly']['vertices'][3]['x'])\n",
    "    uly_list.append(WordsAndCoordinates[i]['boundingPoly']['vertices'][3]['y'])\n",
    "##################### Create Dictionary for the lists #####################\n",
    "WordsAndCoordinatesDict={\"Word\":word_list,'llx':llx_list,'lly':lly_list,'lrx':lrx_list,'lry':lry_list,'urx':urx_list,'ury':ury_list,'ulx':ulx_list,'uly':uly_list}\n",
    "WordsAndCoordinatesDF=pd.DataFrame.from_dict(WordsAndCoordinatesDict)"
   ]
  },
  {
   "cell_type": "code",
   "execution_count": 5,
   "metadata": {},
   "outputs": [
    {
     "data": {
      "text/plain": [
       "'2642441480'"
      ]
     },
     "execution_count": 5,
     "metadata": {},
     "output_type": "execute_result"
    }
   ],
   "source": [
    "BookingNumber=WordsAndCoordinatesDF[WordsAndCoordinatesDF['Word'].isin(['Booking'])]\n",
    "BookingNumber_uly=BookingNumber['uly'].values[1]\n",
    "BookingNumber_lly=BookingNumber['lly'].values[1]\n",
    "BookingNumber_urx=BookingNumber['urx'].values[1]\n",
    "PrintDate=WordsAndCoordinatesDF[WordsAndCoordinatesDF['Word'].isin(['Print'])]\n",
    "Print_llx=PrintDate['llx'].values[0]\n",
    "BookingNumber=WordsAndCoordinatesDF[(WordsAndCoordinatesDF['uly']>BookingNumber_uly-40) &\n",
    "                                    (WordsAndCoordinatesDF['lly']<BookingNumber_lly+40) &\n",
    "                                    (WordsAndCoordinatesDF['lrx']<Print_llx-40)]\n",
    "BookingNumber=BookingNumber[~BookingNumber['Word'].isin(['Booking','Number'])]\n",
    "BookingNumber=\" \".join(BookingNumber['Word'].values).strip()\n",
    "BookingNumber"
   ]
  },
  {
   "cell_type": "code",
   "execution_count": 7,
   "metadata": {},
   "outputs": [
    {
     "data": {
      "text/plain": [
       "'24 Jun 2020'"
      ]
     },
     "execution_count": 7,
     "metadata": {},
     "output_type": "execute_result"
    }
   ],
   "source": [
    "PrintDate=WordsAndCoordinatesDF[WordsAndCoordinatesDF['Word'].isin(['Print'])]\n",
    "PrintDate_uly=PrintDate['uly'].values[0]\n",
    "PrintDate_lly=PrintDate['lly'].values[0]\n",
    "PrintDate = WordsAndCoordinatesDF[(WordsAndCoordinatesDF['uly']>PrintDate_uly-20) &\n",
    "                                  (WordsAndCoordinatesDF['lly']<PrintDate_lly+20)]\n",
    "PrintDate = PrintDate[~PrintDate['Word'].isin(['Print','Date','Date:'])]\n",
    "PrintDate = \" \".join(PrintDate['Word'].values).replace(\":\",\"\").strip()\n",
    "PrintDate"
   ]
  },
  {
   "cell_type": "code",
   "execution_count": 8,
   "metadata": {},
   "outputs": [
    {
     "data": {
      "text/plain": [
       "'Jakarta, Jakarta Raya, Indonesia(IDJKT)'"
      ]
     },
     "execution_count": 8,
     "metadata": {},
     "output_type": "execute_result"
    }
   ],
   "source": [
    "Routing=WordsAndCoordinatesDF[WordsAndCoordinatesDF['Word'].isin(['Routing'])]\n",
    "Routing_lly = Routing['lly'].values[0]\n",
    "Routing_lly\n",
    "Intended=WordsAndCoordinatesDF[WordsAndCoordinatesDF['Word'].isin(['Intended'])]\n",
    "Intended_lly = Intended['uly'].values[0]\n",
    "Intended_lly\n",
    "WordsBetweenRoutingAndIntended=WordsAndCoordinatesDF[(WordsAndCoordinatesDF['uly']>Routing_lly) & \n",
    "                                                     (WordsAndCoordinatesDF['lly']<Intended_lly)]\n",
    "Origin = WordsBetweenRoutingAndIntended[WordsBetweenRoutingAndIntended['Word'].isin(['Origin'])]\n",
    "Origin_uly = Origin['uly'].values[0]\n",
    "Origin_lly = Origin['lly'].values[0]\n",
    "Destination = WordsBetweenRoutingAndIntended[WordsBetweenRoutingAndIntended['Word'].isin(['Destination'])]\n",
    "Destination_uly = Destination['uly'].values[0]\n",
    "Destination_lly = Destination['lly'].values[0]\n",
    "Destination_ulx = Destination['ulx'].values[0]\n",
    "OriginCity = WordsBetweenRoutingAndIntended[(WordsBetweenRoutingAndIntended['uly']>Origin_uly-20) &\n",
    "                                            (WordsBetweenRoutingAndIntended['lly']<Origin_lly+20) &\n",
    "                                            (WordsBetweenRoutingAndIntended['urx']<Destination_ulx-20) &\n",
    "                                            (~WordsBetweenRoutingAndIntended['Word'].isin(['Origin','City:','City']))]\n",
    "OriginCity=\" \".join(OriginCity['Word'].values)\n",
    "OriginCity=OriginCity.replace(\":\",\"\").strip()\n",
    "OriginCity"
   ]
  },
  {
   "cell_type": "code",
   "execution_count": 9,
   "metadata": {},
   "outputs": [
    {
     "data": {
      "text/plain": [
       "'Rancho Cucamonga, San Bernardino, California,'"
      ]
     },
     "execution_count": 9,
     "metadata": {},
     "output_type": "execute_result"
    }
   ],
   "source": [
    "Destination_urx = Destination['urx'].values[0]\n",
    "Destination = WordsBetweenRoutingAndIntended[(WordsBetweenRoutingAndIntended['uly']>Destination_uly-20) &\n",
    "                                             (WordsBetweenRoutingAndIntended['lly']<Destination_lly+20) &\n",
    "                                             (WordsBetweenRoutingAndIntended['llx']>Destination_urx)]\n",
    "Destination=\" \".join(Destination['Word'].values)\n",
    "Destination=Destination.strip()\n",
    "Destination"
   ]
  },
  {
   "cell_type": "code",
   "execution_count": 10,
   "metadata": {},
   "outputs": [],
   "source": [
    "Quantity = WordsAndCoordinatesDF[WordsAndCoordinatesDF['Word'].isin(['Quantity'])]\n",
    "Size = WordsAndCoordinatesDF[WordsAndCoordinatesDF['Word'].isin(['Size'])]\n",
    "CargoWeight = WordsAndCoordinatesDF[WordsAndCoordinatesDF['Word'].isin(['Weight'])]\n",
    "Trucking = WordsAndCoordinatesDF[WordsAndCoordinatesDF['Word'].isin(['Trucking'])]\n",
    "Quantity_lly=Quantity['lly'].values[0]\n",
    "Quantity_lrx=Quantity['lrx'].values[0]\n",
    "Size_lly=Size['lly'].values[0]\n",
    "Size_llx=Size['llx'].values[0]\n",
    "CargoWeight_llx=CargoWeight['llx'].values[0]\n",
    "Trucking_uly=Trucking['uly'].values[0]"
   ]
  },
  {
   "cell_type": "code",
   "execution_count": 15,
   "metadata": {},
   "outputs": [
    {
     "data": {
      "text/plain": [
       "''"
      ]
     },
     "execution_count": 15,
     "metadata": {},
     "output_type": "execute_result"
    }
   ],
   "source": [
    "Quantity = WordsAndCoordinatesDF[(WordsAndCoordinatesDF['uly']>Quantity_lly) &\n",
    "                                 (WordsAndCoordinatesDF['uly']<Trucking_uly) &\n",
    "                                 (WordsAndCoordinatesDF['urx']<Size_llx-180)]\n",
    "Quantity=\" \".join(Quantity['Word'].values).strip()\n",
    "Quantity"
   ]
  },
  {
   "cell_type": "code",
   "execution_count": 12,
   "metadata": {},
   "outputs": [
    {
     "data": {
      "text/plain": [
       "\"40' Hi-Cube Container\""
      ]
     },
     "execution_count": 12,
     "metadata": {},
     "output_type": "execute_result"
    }
   ],
   "source": [
    "Size = WordsAndCoordinatesDF[(WordsAndCoordinatesDF['lly']>Size_lly+20) &\n",
    "                             (WordsAndCoordinatesDF['lly']<Trucking_uly) &\n",
    "                             (WordsAndCoordinatesDF['llx']>Quantity_lrx) &\n",
    "                             (WordsAndCoordinatesDF['lrx']<CargoWeight_llx-180)]\n",
    "Size=\" \".join(Size['Word'].values).strip()\n",
    "Size"
   ]
  },
  {
   "cell_type": "code",
   "execution_count": 18,
   "metadata": {},
   "outputs": [
    {
     "data": {
      "text/html": [
       "<div>\n",
       "<style scoped>\n",
       "    .dataframe tbody tr th:only-of-type {\n",
       "        vertical-align: middle;\n",
       "    }\n",
       "\n",
       "    .dataframe tbody tr th {\n",
       "        vertical-align: top;\n",
       "    }\n",
       "\n",
       "    .dataframe thead th {\n",
       "        text-align: right;\n",
       "    }\n",
       "</style>\n",
       "<table border=\"1\" class=\"dataframe\">\n",
       "  <thead>\n",
       "    <tr style=\"text-align: right;\">\n",
       "      <th></th>\n",
       "      <th>Word</th>\n",
       "      <th>llx</th>\n",
       "      <th>lly</th>\n",
       "      <th>lrx</th>\n",
       "      <th>lry</th>\n",
       "      <th>urx</th>\n",
       "      <th>ury</th>\n",
       "      <th>ulx</th>\n",
       "      <th>uly</th>\n",
       "    </tr>\n",
       "  </thead>\n",
       "  <tbody>\n",
       "    <tr>\n",
       "      <th>247</th>\n",
       "      <td>Quantity</td>\n",
       "      <td>188</td>\n",
       "      <td>1840</td>\n",
       "      <td>271</td>\n",
       "      <td>1839</td>\n",
       "      <td>271</td>\n",
       "      <td>1863</td>\n",
       "      <td>188</td>\n",
       "      <td>1864</td>\n",
       "    </tr>\n",
       "  </tbody>\n",
       "</table>\n",
       "</div>"
      ],
      "text/plain": [
       "         Word  llx   lly  lrx   lry  urx   ury  ulx   uly\n",
       "247  Quantity  188  1840  271  1839  271  1863  188  1864"
      ]
     },
     "execution_count": 18,
     "metadata": {},
     "output_type": "execute_result"
    }
   ],
   "source": [
    "WordsAndCoordinatesDF[WordsAndCoordinatesDF['Word'].isin([\"Quantity\"])]"
   ]
  },
  {
   "cell_type": "code",
   "execution_count": 19,
   "metadata": {},
   "outputs": [
    {
     "data": {
      "text/html": [
       "<div>\n",
       "<style scoped>\n",
       "    .dataframe tbody tr th:only-of-type {\n",
       "        vertical-align: middle;\n",
       "    }\n",
       "\n",
       "    .dataframe tbody tr th {\n",
       "        vertical-align: top;\n",
       "    }\n",
       "\n",
       "    .dataframe thead th {\n",
       "        text-align: right;\n",
       "    }\n",
       "</style>\n",
       "<table border=\"1\" class=\"dataframe\">\n",
       "  <thead>\n",
       "    <tr style=\"text-align: right;\">\n",
       "      <th></th>\n",
       "      <th>Word</th>\n",
       "      <th>llx</th>\n",
       "      <th>lly</th>\n",
       "      <th>lrx</th>\n",
       "      <th>lry</th>\n",
       "      <th>urx</th>\n",
       "      <th>ury</th>\n",
       "      <th>ulx</th>\n",
       "      <th>uly</th>\n",
       "    </tr>\n",
       "  </thead>\n",
       "  <tbody>\n",
       "    <tr>\n",
       "      <th>240</th>\n",
       "      <td>|(per</td>\n",
       "      <td>513</td>\n",
       "      <td>1852</td>\n",
       "      <td>572</td>\n",
       "      <td>1852</td>\n",
       "      <td>572</td>\n",
       "      <td>1876</td>\n",
       "      <td>513</td>\n",
       "      <td>1876</td>\n",
       "    </tr>\n",
       "    <tr>\n",
       "      <th>241</th>\n",
       "      <td>container)</td>\n",
       "      <td>578</td>\n",
       "      <td>1852</td>\n",
       "      <td>697</td>\n",
       "      <td>1852</td>\n",
       "      <td>697</td>\n",
       "      <td>1876</td>\n",
       "      <td>578</td>\n",
       "      <td>1876</td>\n",
       "    </tr>\n",
       "    <tr>\n",
       "      <th>242</th>\n",
       "      <td>40'</td>\n",
       "      <td>276</td>\n",
       "      <td>1885</td>\n",
       "      <td>310</td>\n",
       "      <td>1885</td>\n",
       "      <td>310</td>\n",
       "      <td>1906</td>\n",
       "      <td>276</td>\n",
       "      <td>1906</td>\n",
       "    </tr>\n",
       "    <tr>\n",
       "      <th>243</th>\n",
       "      <td>Hi-Cube</td>\n",
       "      <td>322</td>\n",
       "      <td>1887</td>\n",
       "      <td>402</td>\n",
       "      <td>1887</td>\n",
       "      <td>402</td>\n",
       "      <td>1903</td>\n",
       "      <td>322</td>\n",
       "      <td>1903</td>\n",
       "    </tr>\n",
       "    <tr>\n",
       "      <th>244</th>\n",
       "      <td>Container</td>\n",
       "      <td>417</td>\n",
       "      <td>1886</td>\n",
       "      <td>510</td>\n",
       "      <td>1886</td>\n",
       "      <td>510</td>\n",
       "      <td>1907</td>\n",
       "      <td>417</td>\n",
       "      <td>1907</td>\n",
       "    </tr>\n",
       "    <tr>\n",
       "      <th>245</th>\n",
       "      <td>5000</td>\n",
       "      <td>522</td>\n",
       "      <td>1888</td>\n",
       "      <td>571</td>\n",
       "      <td>1888</td>\n",
       "      <td>571</td>\n",
       "      <td>1903</td>\n",
       "      <td>522</td>\n",
       "      <td>1903</td>\n",
       "    </tr>\n",
       "    <tr>\n",
       "      <th>246</th>\n",
       "      <td>Kilograms</td>\n",
       "      <td>582</td>\n",
       "      <td>1887</td>\n",
       "      <td>682</td>\n",
       "      <td>1887</td>\n",
       "      <td>682</td>\n",
       "      <td>1908</td>\n",
       "      <td>582</td>\n",
       "      <td>1908</td>\n",
       "    </tr>\n",
       "    <tr>\n",
       "      <th>247</th>\n",
       "      <td>Quantity</td>\n",
       "      <td>188</td>\n",
       "      <td>1840</td>\n",
       "      <td>271</td>\n",
       "      <td>1839</td>\n",
       "      <td>271</td>\n",
       "      <td>1863</td>\n",
       "      <td>188</td>\n",
       "      <td>1864</td>\n",
       "    </tr>\n",
       "    <tr>\n",
       "      <th>252</th>\n",
       "      <td>Trucking</td>\n",
       "      <td>150</td>\n",
       "      <td>1986</td>\n",
       "      <td>269</td>\n",
       "      <td>1986</td>\n",
       "      <td>269</td>\n",
       "      <td>2010</td>\n",
       "      <td>150</td>\n",
       "      <td>2010</td>\n",
       "    </tr>\n",
       "    <tr>\n",
       "      <th>253</th>\n",
       "      <td>Empty</td>\n",
       "      <td>155</td>\n",
       "      <td>2040</td>\n",
       "      <td>226</td>\n",
       "      <td>2040</td>\n",
       "      <td>226</td>\n",
       "      <td>2059</td>\n",
       "      <td>155</td>\n",
       "      <td>2059</td>\n",
       "    </tr>\n",
       "    <tr>\n",
       "      <th>254</th>\n",
       "      <td>Container</td>\n",
       "      <td>235</td>\n",
       "      <td>2040</td>\n",
       "      <td>347</td>\n",
       "      <td>2040</td>\n",
       "      <td>347</td>\n",
       "      <td>2055</td>\n",
       "      <td>235</td>\n",
       "      <td>2055</td>\n",
       "    </tr>\n",
       "    <tr>\n",
       "      <th>255</th>\n",
       "      <td>Pickup</td>\n",
       "      <td>357</td>\n",
       "      <td>2040</td>\n",
       "      <td>431</td>\n",
       "      <td>2040</td>\n",
       "      <td>431</td>\n",
       "      <td>2059</td>\n",
       "      <td>357</td>\n",
       "      <td>2059</td>\n",
       "    </tr>\n",
       "    <tr>\n",
       "      <th>256</th>\n",
       "      <td>Request:</td>\n",
       "      <td>442</td>\n",
       "      <td>2040</td>\n",
       "      <td>541</td>\n",
       "      <td>2040</td>\n",
       "      <td>541</td>\n",
       "      <td>2059</td>\n",
       "      <td>442</td>\n",
       "      <td>2059</td>\n",
       "    </tr>\n",
       "    <tr>\n",
       "      <th>257</th>\n",
       "      <td>30</td>\n",
       "      <td>555</td>\n",
       "      <td>2040</td>\n",
       "      <td>578</td>\n",
       "      <td>2040</td>\n",
       "      <td>578</td>\n",
       "      <td>2055</td>\n",
       "      <td>555</td>\n",
       "      <td>2055</td>\n",
       "    </tr>\n",
       "    <tr>\n",
       "      <th>258</th>\n",
       "      <td>Jun</td>\n",
       "      <td>588</td>\n",
       "      <td>2040</td>\n",
       "      <td>620</td>\n",
       "      <td>2040</td>\n",
       "      <td>620</td>\n",
       "      <td>2055</td>\n",
       "      <td>588</td>\n",
       "      <td>2055</td>\n",
       "    </tr>\n",
       "    <tr>\n",
       "      <th>259</th>\n",
       "      <td>2020,</td>\n",
       "      <td>632</td>\n",
       "      <td>2040</td>\n",
       "      <td>688</td>\n",
       "      <td>2040</td>\n",
       "      <td>688</td>\n",
       "      <td>2058</td>\n",
       "      <td>632</td>\n",
       "      <td>2058</td>\n",
       "    </tr>\n",
       "    <tr>\n",
       "      <th>260</th>\n",
       "      <td>08:00</td>\n",
       "      <td>698</td>\n",
       "      <td>2037</td>\n",
       "      <td>780</td>\n",
       "      <td>2037</td>\n",
       "      <td>780</td>\n",
       "      <td>2060</td>\n",
       "      <td>698</td>\n",
       "      <td>2060</td>\n",
       "    </tr>\n",
       "    <tr>\n",
       "      <th>261</th>\n",
       "      <td>WIB</td>\n",
       "      <td>782</td>\n",
       "      <td>2037</td>\n",
       "      <td>812</td>\n",
       "      <td>2037</td>\n",
       "      <td>812</td>\n",
       "      <td>2060</td>\n",
       "      <td>782</td>\n",
       "      <td>2060</td>\n",
       "    </tr>\n",
       "    <tr>\n",
       "      <th>262</th>\n",
       "      <td>https://moc.oocl.com/exportdomain/bookingreque...</td>\n",
       "      <td>75</td>\n",
       "      <td>2136</td>\n",
       "      <td>1556</td>\n",
       "      <td>2136</td>\n",
       "      <td>1556</td>\n",
       "      <td>2157</td>\n",
       "      <td>75</td>\n",
       "      <td>2157</td>\n",
       "    </tr>\n",
       "    <tr>\n",
       "      <th>263</th>\n",
       "      <td>1/2</td>\n",
       "      <td>1598</td>\n",
       "      <td>2137</td>\n",
       "      <td>1624</td>\n",
       "      <td>2137</td>\n",
       "      <td>1624</td>\n",
       "      <td>2152</td>\n",
       "      <td>1598</td>\n",
       "      <td>2152</td>\n",
       "    </tr>\n",
       "  </tbody>\n",
       "</table>\n",
       "</div>"
      ],
      "text/plain": [
       "                                                  Word   llx   lly   lrx  \\\n",
       "240                                              |(per   513  1852   572   \n",
       "241                                         container)   578  1852   697   \n",
       "242                                                40'   276  1885   310   \n",
       "243                                            Hi-Cube   322  1887   402   \n",
       "244                                          Container   417  1886   510   \n",
       "245                                               5000   522  1888   571   \n",
       "246                                          Kilograms   582  1887   682   \n",
       "247                                           Quantity   188  1840   271   \n",
       "252                                           Trucking   150  1986   269   \n",
       "253                                              Empty   155  2040   226   \n",
       "254                                          Container   235  2040   347   \n",
       "255                                             Pickup   357  2040   431   \n",
       "256                                           Request:   442  2040   541   \n",
       "257                                                 30   555  2040   578   \n",
       "258                                                Jun   588  2040   620   \n",
       "259                                              2020,   632  2040   688   \n",
       "260                                              08:00   698  2037   780   \n",
       "261                                                WIB   782  2037   812   \n",
       "262  https://moc.oocl.com/exportdomain/bookingreque...    75  2136  1556   \n",
       "263                                                1/2  1598  2137  1624   \n",
       "\n",
       "      lry   urx   ury   ulx   uly  \n",
       "240  1852   572  1876   513  1876  \n",
       "241  1852   697  1876   578  1876  \n",
       "242  1885   310  1906   276  1906  \n",
       "243  1887   402  1903   322  1903  \n",
       "244  1886   510  1907   417  1907  \n",
       "245  1888   571  1903   522  1903  \n",
       "246  1887   682  1908   582  1908  \n",
       "247  1839   271  1863   188  1864  \n",
       "252  1986   269  2010   150  2010  \n",
       "253  2040   226  2059   155  2059  \n",
       "254  2040   347  2055   235  2055  \n",
       "255  2040   431  2059   357  2059  \n",
       "256  2040   541  2059   442  2059  \n",
       "257  2040   578  2055   555  2055  \n",
       "258  2040   620  2055   588  2055  \n",
       "259  2040   688  2058   632  2058  \n",
       "260  2037   780  2060   698  2060  \n",
       "261  2037   812  2060   782  2060  \n",
       "262  2136  1556  2157    75  2157  \n",
       "263  2137  1624  2152  1598  2152  "
      ]
     },
     "execution_count": 19,
     "metadata": {},
     "output_type": "execute_result"
    }
   ],
   "source": [
    "WordsAndCoordinatesDF[WordsAndCoordinatesDF['uly'] >= 1864]"
   ]
  },
  {
   "cell_type": "code",
   "execution_count": null,
   "metadata": {},
   "outputs": [],
   "source": []
  }
 ],
 "metadata": {
  "kernelspec": {
   "display_name": "Python 3",
   "language": "python",
   "name": "python3"
  },
  "language_info": {
   "codemirror_mode": {
    "name": "ipython",
    "version": 3
   },
   "file_extension": ".py",
   "mimetype": "text/x-python",
   "name": "python",
   "nbconvert_exporter": "python",
   "pygments_lexer": "ipython3",
   "version": "3.7.7"
  }
 },
 "nbformat": 4,
 "nbformat_minor": 4
}
