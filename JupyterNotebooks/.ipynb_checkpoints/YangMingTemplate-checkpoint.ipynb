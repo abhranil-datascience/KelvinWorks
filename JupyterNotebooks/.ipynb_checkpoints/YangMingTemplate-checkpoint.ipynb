{
 "cells": [
  {
   "cell_type": "code",
   "execution_count": null,
   "metadata": {},
   "outputs": [],
   "source": [
    "import io\n",
    "ImagePath=\"../InputFiles/Receipt1.png\"\n",
    "with io.open(ImagePath, 'rb') as gen_image_file:\n",
    "    content = gen_image_file.read()"
   ]
  },
  {
   "cell_type": "code",
   "execution_count": null,
   "metadata": {},
   "outputs": [],
   "source": [
    "from google.cloud import vision\n",
    "from google.cloud.vision import types\n",
    "from google.protobuf.json_format import MessageToDict\n",
    "import pandas as pd\n",
    "client = vision.ImageAnnotatorClient()\n",
    "image = vision.types.Image(content=content)\n",
    "response = client.text_detection(image=image)\n",
    "DictResponse=MessageToDict(response)"
   ]
  },
  {
   "cell_type": "code",
   "execution_count": null,
   "metadata": {},
   "outputs": [],
   "source": [
    "####################### Set Identifier Keywords ###############################\n",
    "IdentifierList=['booking ref','nama kapal','etd','eta dest','si no','est.open stack','est.closing time','no.of cntrs',\n",
    "                'commodity','pol','transit port','pod','transit terminal','final dest','kontainer dapat diambil di',\n",
    "                'approved']"
   ]
  },
  {
   "cell_type": "code",
   "execution_count": null,
   "metadata": {},
   "outputs": [],
   "source": [
    "########## Check If all words found or not ##################\n",
    "WholeContentDescription=DictResponse['textAnnotations'][0]['description'].lower()\n",
    "count=0\n",
    "for entity in IdentifierList:\n",
    "    if entity in WholeContentDescription:\n",
    "        count=count+1\n",
    "if count!=len(IdentifierList):\n",
    "    print('Google Vision API only found {} out of 16 mandatory keywords.'.format(count))"
   ]
  },
  {
   "cell_type": "code",
   "execution_count": null,
   "metadata": {},
   "outputs": [],
   "source": [
    "############## Create List for vertex and word #############\n",
    "WordsAndCoordinates=DictResponse['textAnnotations'][1:]\n",
    "word_list=[]\n",
    "llx_list=[]\n",
    "lly_list=[]\n",
    "lrx_list=[]\n",
    "lry_list=[]\n",
    "urx_list=[]\n",
    "ury_list=[]\n",
    "ulx_list=[]\n",
    "uly_list=[]\n",
    "for i in range(0,len(WordsAndCoordinates)):\n",
    "    Vertices=WordsAndCoordinates[i]['boundingPoly']['vertices']\n",
    "    valid=True\n",
    "    for coor in range(0,4):\n",
    "        if len(list(Vertices[coor].keys()))!=2:\n",
    "            valid=False\n",
    "            break\n",
    "    if valid:\n",
    "        word_list.append(WordsAndCoordinates[i]['description'])\n",
    "        llx_list.append(Vertices[0]['x'])\n",
    "        lly_list.append(Vertices[0]['y'])\n",
    "        lrx_list.append(Vertices[1]['x'])\n",
    "        lry_list.append(Vertices[1]['y'])\n",
    "        urx_list.append(Vertices[2]['x'])\n",
    "        ury_list.append(Vertices[2]['y'])\n",
    "        ulx_list.append(Vertices[3]['x'])\n",
    "        uly_list.append(Vertices[3]['y'])\n",
    "##################### Create Dictionary for the lists #####################\n",
    "WordsAndCoordinatesDict={\"Word\":word_list,'llx':llx_list,'lly':lly_list,'lrx':lrx_list,'lry':lry_list,'urx':urx_list,'ury':ury_list,'ulx':ulx_list,'uly':uly_list}\n",
    "####################### Create Dataframe ######################\n",
    "WordsAndCoordinatesDF = pd.DataFrame.from_dict(WordsAndCoordinatesDict)"
   ]
  },
  {
   "cell_type": "code",
   "execution_count": null,
   "metadata": {},
   "outputs": [],
   "source": [
    "##################### Get Date ############################\n",
    "uly_date=WordsAndCoordinatesDF[WordsAndCoordinatesDF['Word'].isin(['Date:'])]['uly'].values[0]\n",
    "lly_Date=WordsAndCoordinatesDF[WordsAndCoordinatesDF['Word'].isin(['Date:'])]['lly'].values[0]\n",
    "urx_Date=WordsAndCoordinatesDF[WordsAndCoordinatesDF['Word'].isin(['Date:'])]['urx'].values[0]\n",
    "InvoiceDate=WordsAndCoordinatesDF[((WordsAndCoordinatesDF['uly']>=uly_date-20) & \n",
    "                                   (WordsAndCoordinatesDF['lly']<=lly_Date+20) & \n",
    "                                   (WordsAndCoordinatesDF['ulx']>=urx_Date))]['Word'].values[0]\n",
    "InvoiceDate=\"\".join(InvoiceDate)\n",
    "InvoiceDate"
   ]
  },
  {
   "cell_type": "code",
   "execution_count": null,
   "metadata": {},
   "outputs": [],
   "source": [
    "uly_Ref=WordsAndCoordinatesDF[WordsAndCoordinatesDF['Word'].isin(['Ref:'])]['uly'].values[0]\n",
    "lly_Ref=WordsAndCoordinatesDF[WordsAndCoordinatesDF['Word'].isin(['Ref:'])]['lly'].values[0]\n",
    "urx_Ref=WordsAndCoordinatesDF[WordsAndCoordinatesDF['Word'].isin(['Ref:'])]['urx'].values[0]\n",
    "ulx_Symbol=WordsAndCoordinatesDF[WordsAndCoordinatesDF['Word'].isin(['+++('])]['ulx'].values[0]\n",
    "BookingRef=WordsAndCoordinatesDF[((WordsAndCoordinatesDF['uly']>uly_Ref-20) &\n",
    "                                  (WordsAndCoordinatesDF['lly']<lly_Ref+20) &\n",
    "                                  (WordsAndCoordinatesDF['ulx']>urx_Ref) &\n",
    "                                  (WordsAndCoordinatesDF['urx']<ulx_Symbol-10))]['Word'].values[0]\n",
    "BookingRef=\"\".join(BookingRef)\n",
    "BookingRef"
   ]
  },
  {
   "cell_type": "code",
   "execution_count": null,
   "metadata": {},
   "outputs": [],
   "source": [
    "uly_Kapal=WordsAndCoordinatesDF[WordsAndCoordinatesDF['Word'].isin(['Kapal:'])]['uly'].values[0]\n",
    "lly_Kapal=WordsAndCoordinatesDF[WordsAndCoordinatesDF['Word'].isin(['Kapal:'])]['lly'].values[0]\n",
    "urx_Kapal=WordsAndCoordinatesDF[WordsAndCoordinatesDF['Word'].isin(['Kapal:'])]['urx'].values[0]\n",
    "ulx_Flag=WordsAndCoordinatesDF[WordsAndCoordinatesDF['Word'].isin(['Flag:'])]['ulx'].values[0]\n",
    "NamaKapal=WordsAndCoordinatesDF[((WordsAndCoordinatesDF['uly']>uly_Kapal-20) &\n",
    "                                 (WordsAndCoordinatesDF['lly']<lly_Kapal+20) &\n",
    "                                 (WordsAndCoordinatesDF['ulx']>urx_Kapal) &\n",
    "                                 (WordsAndCoordinatesDF['urx']<ulx_Flag))]['Word'].values\n",
    "NamaKapal=\" \".join(NamaKapal)\n",
    "NamaKapal"
   ]
  },
  {
   "cell_type": "code",
   "execution_count": null,
   "metadata": {},
   "outputs": [],
   "source": [
    "uly_ETD=WordsAndCoordinatesDF[WordsAndCoordinatesDF['Word'].isin(['ETD'])]['uly'].values[0]\n",
    "lly_ETD=WordsAndCoordinatesDF[WordsAndCoordinatesDF['Word'].isin(['ETD'])]['lly'].values[0]\n",
    "urx_ETD=WordsAndCoordinatesDF[WordsAndCoordinatesDF['Word'].isin(['ETD'])]['urx'].values[0]\n",
    "ulx_ETA=WordsAndCoordinatesDF[WordsAndCoordinatesDF['Word'].isin(['ETA'])]['ulx'].values[0]\n",
    "ETD=WordsAndCoordinatesDF[((WordsAndCoordinatesDF['uly']>uly_ETD-20) &\n",
    "                           (WordsAndCoordinatesDF['lly']<lly_ETD+20) &\n",
    "                           (WordsAndCoordinatesDF['ulx']>urx_ETD+10) &\n",
    "                           (WordsAndCoordinatesDF['urx']<ulx_ETA))]['Word'].values\n",
    "ETD=\" \".join(ETD)\n",
    "ETD"
   ]
  },
  {
   "cell_type": "code",
   "execution_count": null,
   "metadata": {},
   "outputs": [],
   "source": [
    "uly_DEST=WordsAndCoordinatesDF[WordsAndCoordinatesDF['Word'].isin(['DEST:'])]['uly'].values[0]\n",
    "lly_DEST=WordsAndCoordinatesDF[WordsAndCoordinatesDF['Word'].isin(['DEST:'])]['lly'].values[0]\n",
    "urx_DEST=WordsAndCoordinatesDF[WordsAndCoordinatesDF['Word'].isin(['DEST:'])]['urx'].values[0]\n",
    "ulx_SI=WordsAndCoordinatesDF[WordsAndCoordinatesDF['Word'].isin(['SI'])]['ulx'].values[0]\n",
    "DEST=WordsAndCoordinatesDF[((WordsAndCoordinatesDF['uly']>uly_DEST-20) &\n",
    "                            (WordsAndCoordinatesDF['lly']<lly_DEST+20) &\n",
    "                            (WordsAndCoordinatesDF['ulx']>urx_DEST) &\n",
    "                            (WordsAndCoordinatesDF['urx']<ulx_SI))]['Word'].values\n",
    "DEST=\" \".join(DEST)\n",
    "DEST"
   ]
  },
  {
   "cell_type": "code",
   "execution_count": null,
   "metadata": {},
   "outputs": [],
   "source": [
    "uly_SI=WordsAndCoordinatesDF[WordsAndCoordinatesDF['Word'].isin(['SI'])]['uly'].values[0]\n",
    "lly_SI=WordsAndCoordinatesDF[WordsAndCoordinatesDF['Word'].isin(['SI'])]['lly'].values[0]\n",
    "urx_SI=WordsAndCoordinatesDF[WordsAndCoordinatesDF['Word'].isin(['SI'])]['urx'].values[0]\n",
    "SI=WordsAndCoordinatesDF[((WordsAndCoordinatesDF['uly']>uly_SI-20) &\n",
    "                          (WordsAndCoordinatesDF['lly']<lly_SI+20) &\n",
    "                          (WordsAndCoordinatesDF['ulx']>urx_SI+20))]['Word'].values\n",
    "SI=\" \".join(SI)\n",
    "SI"
   ]
  },
  {
   "cell_type": "code",
   "execution_count": null,
   "metadata": {},
   "outputs": [],
   "source": [
    "uly_Open=WordsAndCoordinatesDF[WordsAndCoordinatesDF['Word'].isin(['STACK:'])]['uly'].values[0]\n",
    "lly_Open=WordsAndCoordinatesDF[WordsAndCoordinatesDF['Word'].isin(['STACK:'])]['lly'].values[0]\n",
    "urx_Open=WordsAndCoordinatesDF[WordsAndCoordinatesDF['Word'].isin(['STACK:'])]['urx'].values[0]\n",
    "ulx_Closing=WordsAndCoordinatesDF[WordsAndCoordinatesDF['Word'].isin(['EST.CLOSING'])]['llx'].values[0]\n",
    "Open=WordsAndCoordinatesDF[((WordsAndCoordinatesDF['uly']>uly_Open-20) &\n",
    "                            (WordsAndCoordinatesDF['lly']<lly_Open+20) &\n",
    "                            (WordsAndCoordinatesDF['ulx']>urx_Open) &\n",
    "                            (WordsAndCoordinatesDF['urx']<ulx_Closing))]['Word'].values\n",
    "Open=\" \".join(Open)\n",
    "Open"
   ]
  },
  {
   "cell_type": "code",
   "execution_count": null,
   "metadata": {},
   "outputs": [],
   "source": [
    "uly_Close=WordsAndCoordinatesDF[WordsAndCoordinatesDF['Word'].isin(['TIME:'])]['uly'].values[0]\n",
    "lly_Close=WordsAndCoordinatesDF[WordsAndCoordinatesDF['Word'].isin(['TIME:'])]['lly'].values[0]\n",
    "urx_Close=WordsAndCoordinatesDF[WordsAndCoordinatesDF['Word'].isin(['TIME:'])]['urx'].values[0]\n",
    "Close=WordsAndCoordinatesDF[((WordsAndCoordinatesDF['uly']>uly_Close-20) &\n",
    "                             (WordsAndCoordinatesDF['lly']<lly_Close+20) &\n",
    "                             (WordsAndCoordinatesDF['ulx']>urx_Close))]['Word'].values\n",
    "Close=\" \".join(Close)\n",
    "Close"
   ]
  },
  {
   "cell_type": "code",
   "execution_count": null,
   "metadata": {},
   "outputs": [],
   "source": [
    "uly_CNTRS=WordsAndCoordinatesDF[WordsAndCoordinatesDF['Word'].isin(['No.of'])]['uly'].values[0]\n",
    "lly_CNTRS=WordsAndCoordinatesDF[WordsAndCoordinatesDF['Word'].isin(['No.of'])]['lly'].values[0]\n",
    "urx_CNTRS=WordsAndCoordinatesDF[WordsAndCoordinatesDF['Word'].isin(['No.of'])]['urx'].values[0]\n",
    "ulx_commodity=WordsAndCoordinatesDF[WordsAndCoordinatesDF['Word'].isin(['COMMODITY:'])]['ulx'].values[0]\n",
    "CNTRS=WordsAndCoordinatesDF[((WordsAndCoordinatesDF['uly']>uly_CNTRS-20) &\n",
    "                             (WordsAndCoordinatesDF['lly']<lly_CNTRS+20) &\n",
    "                             (WordsAndCoordinatesDF['ulx']>urx_CNTRS) &\n",
    "                             (WordsAndCoordinatesDF['urx']<ulx_commodity))]['Word'].values\n",
    "CNTRS=\" \".join(CNTRS)\n",
    "CNTRS=CNTRS.replace('CNTRS:',\"\")\n",
    "CNTRS"
   ]
  },
  {
   "cell_type": "code",
   "execution_count": null,
   "metadata": {},
   "outputs": [],
   "source": [
    "uly_commodity=WordsAndCoordinatesDF[WordsAndCoordinatesDF['Word'].isin(['COMMODITY:'])]['uly'].values[0]\n",
    "lly_commodity=WordsAndCoordinatesDF[WordsAndCoordinatesDF['Word'].isin(['COMMODITY:'])]['lly'].values[0]\n",
    "urx_commodity=WordsAndCoordinatesDF[WordsAndCoordinatesDF['Word'].isin(['COMMODITY:'])]['urx'].values[0]\n",
    "Commodity=WordsAndCoordinatesDF[((WordsAndCoordinatesDF['uly']>uly_commodity-20) &\n",
    "                                 (WordsAndCoordinatesDF['lly']<lly_commodity+20) &\n",
    "                                 (WordsAndCoordinatesDF['ulx']>urx_commodity))]['Word'].values\n",
    "Commodity=\" \".join(Commodity)\n",
    "Commodity"
   ]
  },
  {
   "cell_type": "code",
   "execution_count": null,
   "metadata": {},
   "outputs": [],
   "source": [
    "uly_POL=WordsAndCoordinatesDF[WordsAndCoordinatesDF['Word'].isin(['POL:'])]['uly'].values[0]\n",
    "lly_commodity=WordsAndCoordinatesDF[WordsAndCoordinatesDF['Word'].isin(['COMMODITY:'])]['lly'].values[0]\n",
    "Remarks=WordsAndCoordinatesDF[((WordsAndCoordinatesDF['uly']>lly_commodity+20) &\n",
    "                               (WordsAndCoordinatesDF['lly']<uly_POL-20))]['Word'].values\n",
    "Remarks=\" \".join(Remarks)\n",
    "Remarks=Remarks.replace(\"Remarks:\",\"\")\n",
    "Remarks"
   ]
  },
  {
   "cell_type": "code",
   "execution_count": null,
   "metadata": {},
   "outputs": [],
   "source": [
    "uly_POL=WordsAndCoordinatesDF[WordsAndCoordinatesDF['Word'].isin(['POL:'])]['uly'].values[0]\n",
    "lly_POL=WordsAndCoordinatesDF[WordsAndCoordinatesDF['Word'].isin(['POL:'])]['lly'].values[0]\n",
    "urx_POL=WordsAndCoordinatesDF[WordsAndCoordinatesDF['Word'].isin(['POL:'])]['urx'].values[0]\n",
    "ulx_transit=WordsAndCoordinatesDF[WordsAndCoordinatesDF['Word'].isin(['Transit'])]['ulx'].min()\n",
    "Pol=WordsAndCoordinatesDF[((WordsAndCoordinatesDF['uly']>uly_POL-20) &\n",
    "                           (WordsAndCoordinatesDF['lly']<lly_POL+20)&\n",
    "                           (WordsAndCoordinatesDF['ulx']>urx_POL) &\n",
    "                           (WordsAndCoordinatesDF['urx']<ulx_transit))]['Word'].values\n",
    "Pol=\" \".join(Pol)\n",
    "Pol"
   ]
  },
  {
   "cell_type": "code",
   "execution_count": null,
   "metadata": {},
   "outputs": [],
   "source": [
    "uly_Port=WordsAndCoordinatesDF[WordsAndCoordinatesDF['Word'].isin(['Port:'])]['uly'].values[0]\n",
    "lly_Port=WordsAndCoordinatesDF[WordsAndCoordinatesDF['Word'].isin(['Port:'])]['lly'].values[0]\n",
    "urx_Port=WordsAndCoordinatesDF[WordsAndCoordinatesDF['Word'].isin(['Port:'])]['urx'].values[0]\n",
    "TransitPort=WordsAndCoordinatesDF[((WordsAndCoordinatesDF['uly']>uly_Port-20) &\n",
    "                                   (WordsAndCoordinatesDF['lly']<lly_Port+20) &\n",
    "                                   (WordsAndCoordinatesDF['ulx']>urx_Port))]['Word'].values\n",
    "TransitPort=\" \".join(TransitPort)\n",
    "TransitPort"
   ]
  },
  {
   "cell_type": "code",
   "execution_count": null,
   "metadata": {},
   "outputs": [],
   "source": [
    "uly_POD=WordsAndCoordinatesDF[WordsAndCoordinatesDF['Word'].isin(['POD:'])]['uly'].values[0]\n",
    "lly_POD=WordsAndCoordinatesDF[WordsAndCoordinatesDF['Word'].isin(['POD:'])]['lly'].values[0]\n",
    "urx_POD=WordsAndCoordinatesDF[WordsAndCoordinatesDF['Word'].isin(['POD:'])]['urx'].values[0]\n",
    "ulx_transit=WordsAndCoordinatesDF[WordsAndCoordinatesDF['Word'].isin(['Transit'])]['urx'].min()\n",
    "Pod=WordsAndCoordinatesDF[((WordsAndCoordinatesDF['uly']>uly_POD-20) &\n",
    "                           (WordsAndCoordinatesDF['lly']<lly_POD+20) &\n",
    "                           (WordsAndCoordinatesDF['ulx']>urx_POD) &\n",
    "                           (WordsAndCoordinatesDF['urx']<ulx_transit))]['Word'].values\n",
    "Pod=\" \".join(Pod)\n",
    "Pod"
   ]
  },
  {
   "cell_type": "code",
   "execution_count": null,
   "metadata": {},
   "outputs": [],
   "source": [
    "uly_Terminal=WordsAndCoordinatesDF[WordsAndCoordinatesDF['Word'].isin(['Terminal:'])]['uly'].values[0]\n",
    "lly_Terminal=WordsAndCoordinatesDF[WordsAndCoordinatesDF['Word'].isin(['Terminal:'])]['lly'].values[0]\n",
    "urx_Terminal=WordsAndCoordinatesDF[WordsAndCoordinatesDF['Word'].isin(['Terminal:'])]['urx'].values[0]\n",
    "TransitTerminal=WordsAndCoordinatesDF[((WordsAndCoordinatesDF['uly']>uly_Terminal-20) &\n",
    "                                       (WordsAndCoordinatesDF['lly']<lly_Terminal+20) &\n",
    "                                       (WordsAndCoordinatesDF['ulx']>urx_Terminal))]['Word'].values\n",
    "TransitTerminal=\" \".join(TransitTerminal)\n",
    "TransitTerminal"
   ]
  },
  {
   "cell_type": "code",
   "execution_count": null,
   "metadata": {},
   "outputs": [],
   "source": [
    "uly_DAPAT=WordsAndCoordinatesDF[WordsAndCoordinatesDF['Word'].isin(['DAPAT'])]['uly'].values[0]\n",
    "lly_Pod=WordsAndCoordinatesDF[WordsAndCoordinatesDF['Word'].isin(['POD:'])]['lly'].values[0]\n",
    "FinalDestination=WordsAndCoordinatesDF[((WordsAndCoordinatesDF['uly']>lly_Pod+20) &\n",
    "                                        (WordsAndCoordinatesDF['lly']<uly_DAPAT-20))]['Word'].values\n",
    "FinalDestination=\" \".join(FinalDestination)\n",
    "FinalDestination=FinalDestination.replace(\"Final Dest:\",\"\").strip()\n",
    "FinalDestination"
   ]
  },
  {
   "cell_type": "code",
   "execution_count": null,
   "metadata": {},
   "outputs": [],
   "source": [
    "uly_DI=WordsAndCoordinatesDF[WordsAndCoordinatesDF['Word'].isin(['DI:'])]['uly'].values[0]\n",
    "lly_DI=WordsAndCoordinatesDF[WordsAndCoordinatesDF['Word'].isin(['DI:'])]['lly'].values[0]\n",
    "urx_DI=WordsAndCoordinatesDF[WordsAndCoordinatesDF['Word'].isin(['DI:'])]['urx'].values[0]\n",
    "llx_Approved=WordsAndCoordinatesDF[WordsAndCoordinatesDF['Word'].isin(['Approved'])]['llx'].values[0]\n",
    "uly_Telp=WordsAndCoordinatesDF[WordsAndCoordinatesDF['Word'].isin(['TELP:'])]['uly'].values[0]\n",
    "AddressLine1=WordsAndCoordinatesDF[((WordsAndCoordinatesDF['uly']>uly_DI-20) &\n",
    "                                    (WordsAndCoordinatesDF['lly']<lly_DI+20) &\n",
    "                                    (WordsAndCoordinatesDF['ulx']>urx_DI))]['Word'].values\n",
    "AddressLine1=\" \".join(AddressLine1)\n",
    "AddressLine2=WordsAndCoordinatesDF[((WordsAndCoordinatesDF['uly']>lly_DI+20) &\n",
    "                                    (WordsAndCoordinatesDF['lly']<uly_Telp-20) &\n",
    "                                    (WordsAndCoordinatesDF['urx']<llx_Approved))]['Word'].values\n",
    "AddressLine2=\" \".join(AddressLine2)\n",
    "Address=AddressLine1+\" \"+AddressLine2\n",
    "Address"
   ]
  },
  {
   "cell_type": "code",
   "execution_count": null,
   "metadata": {},
   "outputs": [],
   "source": [
    "uly_Telp=WordsAndCoordinatesDF[WordsAndCoordinatesDF['Word'].isin(['TELP:'])]['uly'].values[0]\n",
    "lly_Telp=WordsAndCoordinatesDF[WordsAndCoordinatesDF['Word'].isin(['TELP:'])]['lly'].values[0]\n",
    "urx_Telp=WordsAndCoordinatesDF[WordsAndCoordinatesDF['Word'].isin(['TELP:'])]['urx'].values[0]\n",
    "llx_Approved=WordsAndCoordinatesDF[WordsAndCoordinatesDF['Word'].isin(['Approved'])]['llx'].values[0]\n",
    "Telephone=WordsAndCoordinatesDF[((WordsAndCoordinatesDF['uly']>uly_Telp-20) &\n",
    "                                 (WordsAndCoordinatesDF['lly']<lly_Telp+20) &\n",
    "                                 (WordsAndCoordinatesDF['ulx']>urx_Telp) &\n",
    "                                 (WordsAndCoordinatesDF['lrx']<llx_Approved))]['Word'].values\n",
    "Telephone=\" \".join(Telephone)\n",
    "Telephone"
   ]
  },
  {
   "cell_type": "code",
   "execution_count": null,
   "metadata": {},
   "outputs": [],
   "source": []
  }
 ],
 "metadata": {
  "kernelspec": {
   "display_name": "Python 3",
   "language": "python",
   "name": "python3"
  },
  "language_info": {
   "codemirror_mode": {
    "name": "ipython",
    "version": 3
   },
   "file_extension": ".py",
   "mimetype": "text/x-python",
   "name": "python",
   "nbconvert_exporter": "python",
   "pygments_lexer": "ipython3",
   "version": "3.7.7"
  }
 },
 "nbformat": 4,
 "nbformat_minor": 4
}
