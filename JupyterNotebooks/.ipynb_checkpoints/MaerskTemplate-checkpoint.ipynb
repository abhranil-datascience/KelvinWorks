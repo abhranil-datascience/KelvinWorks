{
 "cells": [
  {
   "cell_type": "code",
   "execution_count": 1,
   "metadata": {},
   "outputs": [
    {
     "data": {
      "text/plain": [
       "True"
      ]
     },
     "execution_count": 1,
     "metadata": {},
     "output_type": "execute_result"
    }
   ],
   "source": [
    "InputFile=\"../InputFiles/Template2.pdf\"\n",
    "file_type=\"pdf\"\n",
    "IsMaersk=False\n",
    "import fitz\n",
    "if file_type==\"pdf\":\n",
    "    doc = fitz.open(InputFile)\n",
    "    page = doc[0]\n",
    "    text = page.getText().lower()\n",
    "    if \"maersk\" in text:\n",
    "        IsMaersk=True\n",
    "IsMaersk  "
   ]
  },
  {
   "cell_type": "code",
   "execution_count": 2,
   "metadata": {},
   "outputs": [],
   "source": [
    "from pdf2image import convert_from_path\n",
    "import random,string,cv2,io,os\n",
    "from google.cloud import vision\n",
    "from google.cloud.vision import types\n",
    "from google.protobuf.json_format import MessageToDict\n",
    "import pandas as pd\n",
    "letters = string.ascii_lowercase\n",
    "imagedirectory=\"../Images/\"\n",
    "client = vision.ImageAnnotatorClient()\n",
    "if IsMaersk:\n",
    "    images = convert_from_path(InputFile,dpi=500)\n",
    "    ImageFiles=[]\n",
    "    for image in images:\n",
    "        grayscaledimage=image.convert('LA')\n",
    "        randomNumber=random.randint(10000,99999)\n",
    "        randomAlphabets=''.join(random.choice(letters) for i in range(5))\n",
    "        imagename=\"Image\"+str(randomNumber)+randomAlphabets+\".png\"\n",
    "        image_path=imagedirectory+imagename\n",
    "        ImageFiles.append(image_path)\n",
    "        grayscaledimage.save(image_path)\n",
    "    for image in ImageFiles:\n",
    "        currentImage=cv2.imread(image)\n",
    "        currentImage[currentImage>245]=255\n",
    "        currentImage[(currentImage!=0) & (currentImage!=255)]=255\n",
    "        cv2.imwrite(image,currentImage)\n",
    "    for count in range(0,len(ImageFiles)-1):\n",
    "        currentfile=ImageFiles[count]\n",
    "        with io.open(currentfile, 'rb') as gen_image_file:\n",
    "            content = gen_image_file.read()\n",
    "        image = vision.types.Image(content=content)\n",
    "        response = client.text_detection(image=image)\n",
    "        DictResponse=MessageToDict(response)\n",
    "        WordsAndCoordinates=DictResponse['textAnnotations'][1:]\n",
    "        word_list=[]\n",
    "        llx_list=[]\n",
    "        lly_list=[]\n",
    "        lrx_list=[]\n",
    "        lry_list=[]\n",
    "        urx_list=[]\n",
    "        ury_list=[]\n",
    "        ulx_list=[]\n",
    "        uly_list=[]\n",
    "        for i in range(0,len(WordsAndCoordinates)):\n",
    "            word_list.append(WordsAndCoordinates[i]['description'])\n",
    "            llx_list.append(WordsAndCoordinates[i]['boundingPoly']['vertices'][0]['x'])\n",
    "            lly_list.append(WordsAndCoordinates[i]['boundingPoly']['vertices'][0]['y'])\n",
    "            lrx_list.append(WordsAndCoordinates[i]['boundingPoly']['vertices'][1]['x'])\n",
    "            lry_list.append(WordsAndCoordinates[i]['boundingPoly']['vertices'][1]['y'])\n",
    "            urx_list.append(WordsAndCoordinates[i]['boundingPoly']['vertices'][2]['x'])\n",
    "            ury_list.append(WordsAndCoordinates[i]['boundingPoly']['vertices'][2]['y'])\n",
    "            ulx_list.append(WordsAndCoordinates[i]['boundingPoly']['vertices'][3]['x'])\n",
    "            uly_list.append(WordsAndCoordinates[i]['boundingPoly']['vertices'][3]['y'])\n",
    "            ##################### Create Dictionary for the lists #####################\n",
    "            WordsAndCoordinatesDict={\"Word\":word_list,'llx':llx_list,'lly':lly_list,'lrx':lrx_list,'lry':lry_list,'urx':urx_list,'ury':ury_list,'ulx':ulx_list,'uly':uly_list}\n",
    "            ####################### Create Dataframe ######################\n",
    "            if count==0:\n",
    "                WordsAndCoordinatesDF_Page1 = pd.DataFrame.from_dict(WordsAndCoordinatesDict)\n",
    "            elif count==1:\n",
    "                WordsAndCoordinatesDF_Page2 = pd.DataFrame.from_dict(WordsAndCoordinatesDict)\n",
    "    for image in ImageFiles:\n",
    "        os.remove(image)"
   ]
  },
  {
   "cell_type": "code",
   "execution_count": 3,
   "metadata": {},
   "outputs": [
    {
     "data": {
      "text/plain": [
       "'203420321'"
      ]
     },
     "execution_count": 3,
     "metadata": {},
     "output_type": "execute_result"
    }
   ],
   "source": [
    "BookingNumber_uly=WordsAndCoordinatesDF_Page1[WordsAndCoordinatesDF_Page1['Word'].isin(['No.:'])]['uly'].values[0]-20\n",
    "BookingNumber_lly=WordsAndCoordinatesDF_Page1[WordsAndCoordinatesDF_Page1['Word'].isin(['No.:'])]['lly'].values[0]+20\n",
    "BookingNumber_urx=WordsAndCoordinatesDF_Page1[WordsAndCoordinatesDF_Page1['Word'].isin(['No.:'])]['urx'].values[0]\n",
    "MeraskSpot_llx=WordsAndCoordinatesDF_Page1[WordsAndCoordinatesDF_Page1['Word'].isin(['Maersk'])].sort_values(by='lly').head(1)['llx'].values[0]\n",
    "BookingNumber=WordsAndCoordinatesDF_Page1[(WordsAndCoordinatesDF_Page1['uly'] > BookingNumber_uly) &\n",
    "                                          (WordsAndCoordinatesDF_Page1['lly'] < BookingNumber_lly) &\n",
    "                                          (WordsAndCoordinatesDF_Page1['ulx'] > BookingNumber_urx) &\n",
    "                                          (WordsAndCoordinatesDF_Page1['urx'] < MeraskSpot_llx)]\n",
    "BookingNumber=\" \".join(BookingNumber['Word'].values).strip()\n",
    "BookingNumber"
   ]
  },
  {
   "cell_type": "code",
   "execution_count": 4,
   "metadata": {},
   "outputs": [
    {
     "data": {
      "text/plain": [
       "'Surabaya,Indonesia'"
      ]
     },
     "execution_count": 4,
     "metadata": {},
     "output_type": "execute_result"
    }
   ],
   "source": [
    "From_uly=WordsAndCoordinatesDF_Page1[WordsAndCoordinatesDF_Page1['Word'].isin(['From:'])]['uly'].values[0]-20\n",
    "From_lly=WordsAndCoordinatesDF_Page1[WordsAndCoordinatesDF_Page1['Word'].isin(['From:'])]['lly'].values[0]+20\n",
    "From_urx=WordsAndCoordinatesDF_Page1[WordsAndCoordinatesDF_Page1['Word'].isin(['From:'])]['urx'].values[0]\n",
    "From=WordsAndCoordinatesDF_Page1[(WordsAndCoordinatesDF_Page1['uly']>From_uly) &\n",
    "                                 (WordsAndCoordinatesDF_Page1['lly']<From_lly) &\n",
    "                                 (WordsAndCoordinatesDF_Page1['ulx']>From_urx)]\n",
    "From=\" \".join(From['Word'].values).strip()\n",
    "From"
   ]
  },
  {
   "cell_type": "code",
   "execution_count": 5,
   "metadata": {},
   "outputs": [
    {
     "data": {
      "text/plain": [
       "'Shuwaikh,Kuwait'"
      ]
     },
     "execution_count": 5,
     "metadata": {},
     "output_type": "execute_result"
    }
   ],
   "source": [
    "To_uly=WordsAndCoordinatesDF_Page1[WordsAndCoordinatesDF_Page1['Word'].isin(['To:'])]['uly'].values[0]-20\n",
    "To_lly=WordsAndCoordinatesDF_Page1[WordsAndCoordinatesDF_Page1['Word'].isin(['To:'])]['lly'].values[0]+20\n",
    "To_urx=WordsAndCoordinatesDF_Page1[WordsAndCoordinatesDF_Page1['Word'].isin(['To:'])]['urx'].values[0]\n",
    "To=WordsAndCoordinatesDF_Page1[(WordsAndCoordinatesDF_Page1['uly']>To_uly) &\n",
    "                               (WordsAndCoordinatesDF_Page1['lly']<To_lly) &\n",
    "                               (WordsAndCoordinatesDF_Page1['ulx']>To_urx)]\n",
    "To=\" \".join(To['Word'].values).strip()\n",
    "To"
   ]
  },
  {
   "cell_type": "code",
   "execution_count": 6,
   "metadata": {},
   "outputs": [
    {
     "data": {
      "text/plain": [
       "'Kitchen and restaurant utilities, appliance,'"
      ]
     },
     "execution_count": 6,
     "metadata": {},
     "output_type": "execute_result"
    }
   ],
   "source": [
    "Description_uly=WordsAndCoordinatesDF_Page1[WordsAndCoordinatesDF_Page1['Word'].isin(['Description:'])]['uly'].values[0]-20\n",
    "Description_lly=WordsAndCoordinatesDF_Page1[WordsAndCoordinatesDF_Page1['Word'].isin(['Description:'])]['lly'].values[0]+20\n",
    "Description_urx=WordsAndCoordinatesDF_Page1[WordsAndCoordinatesDF_Page1['Word'].isin(['Description:'])]['urx'].values[0]\n",
    "Commodity=WordsAndCoordinatesDF_Page1[(WordsAndCoordinatesDF_Page1['uly']>Description_uly) &\n",
    "                                      (WordsAndCoordinatesDF_Page1['lly']<Description_lly) &\n",
    "                                      (WordsAndCoordinatesDF_Page1['ulx']>Description_urx)]\n",
    "CommodityDescription=\" \".join(Commodity['Word'].values).strip()\n",
    "CommodityDescription"
   ]
  },
  {
   "cell_type": "code",
   "execution_count": 7,
   "metadata": {},
   "outputs": [
    {
     "data": {
      "text/plain": [
       "'1'"
      ]
     },
     "execution_count": 7,
     "metadata": {},
     "output_type": "execute_result"
    }
   ],
   "source": [
    "Quantity_LLY=WordsAndCoordinatesDF_Page1[WordsAndCoordinatesDF_Page1['Word'].isin(['Quantity'])]['lly'].values[0]+20\n",
    "Itinerary_ULY=WordsAndCoordinatesDF_Page1[WordsAndCoordinatesDF_Page1['Word'].isin(['Itinerary'])]['uly'].values[0]-20\n",
    "Size_LLX=WordsAndCoordinatesDF_Page1[WordsAndCoordinatesDF_Page1['Word'].isin(['Size/Type/Height'])]['llx'].values[0]\n",
    "Quantity=WordsAndCoordinatesDF_Page1[(WordsAndCoordinatesDF_Page1['lly']>Quantity_LLY) &\n",
    "                                     (WordsAndCoordinatesDF_Page1['uly']<Itinerary_ULY) &\n",
    "                                     (WordsAndCoordinatesDF_Page1['lrx']<Size_LLX)]\n",
    "Quantity=\" \".join(Quantity['Word'].values).strip()\n",
    "Quantity"
   ]
  },
  {
   "cell_type": "code",
   "execution_count": 8,
   "metadata": {},
   "outputs": [
    {
     "data": {
      "text/plain": [
       "'40 DRY 9 6'"
      ]
     },
     "execution_count": 8,
     "metadata": {},
     "output_type": "execute_result"
    }
   ],
   "source": [
    "Quantity_LLY=WordsAndCoordinatesDF_Page1[WordsAndCoordinatesDF_Page1['Word'].isin(['Quantity'])]['lly'].values[0]+20\n",
    "Itinerary_ULY=WordsAndCoordinatesDF_Page1[WordsAndCoordinatesDF_Page1['Word'].isin(['Itinerary'])]['uly'].values[0]-20\n",
    "Quatity_LRX=WordsAndCoordinatesDF_Page1[WordsAndCoordinatesDF_Page1['Word'].isin(['Quantity'])]['lrx'].values[0]\n",
    "Sub_LLX=WordsAndCoordinatesDF_Page1[WordsAndCoordinatesDF_Page1['Word'].isin(['Sub.'])]['llx'].values[0]\n",
    "Size=WordsAndCoordinatesDF_Page1[(WordsAndCoordinatesDF_Page1['lly']>Quantity_LLY) &\n",
    "                                 (WordsAndCoordinatesDF_Page1['uly']<Itinerary_ULY) &\n",
    "                                 (WordsAndCoordinatesDF_Page1['llx']>Quatity_LRX) &\n",
    "                                 (WordsAndCoordinatesDF_Page1['lrx']<Sub_LLX)]\n",
    "Size=\" \".join(Size['Word'].values).strip()\n",
    "Size"
   ]
  },
  {
   "cell_type": "code",
   "execution_count": 9,
   "metadata": {},
   "outputs": [
    {
     "data": {
      "text/plain": [
       "''"
      ]
     },
     "execution_count": 9,
     "metadata": {},
     "output_type": "execute_result"
    }
   ],
   "source": [
    "Quantity_LLY=WordsAndCoordinatesDF_Page1[WordsAndCoordinatesDF_Page1['Word'].isin(['Quantity'])]['lly'].values[0]+20\n",
    "Itinerary_ULY=WordsAndCoordinatesDF_Page1[WordsAndCoordinatesDF_Page1['Word'].isin(['Itinerary'])]['uly'].values[0]-20\n",
    "Collapsible_LRX=WordsAndCoordinatesDF_Page1[WordsAndCoordinatesDF_Page1['Word'].isin(['Collapsible'])]['lrx'].values[0]\n",
    "Gross_LLX=WordsAndCoordinatesDF_Page1[WordsAndCoordinatesDF_Page1['Word'].isin(['Gross'])]['llx'].values[0]\n",
    "SubEquipment=WordsAndCoordinatesDF_Page1[(WordsAndCoordinatesDF_Page1['lly']>Quantity_LLY) &\n",
    "                                         (WordsAndCoordinatesDF_Page1['uly']<Itinerary_ULY) &\n",
    "                                         (WordsAndCoordinatesDF_Page1['llx']>Collapsible_LRX) &\n",
    "                                         (WordsAndCoordinatesDF_Page1['lrx']<Gross_LLX)]\n",
    "SubEquipment=\" \".join(SubEquipment['Word'].values).strip()\n",
    "SubEquipment"
   ]
  },
  {
   "cell_type": "code",
   "execution_count": 10,
   "metadata": {},
   "outputs": [
    {
     "data": {
      "text/plain": [
       "'18000.000 KGS'"
      ]
     },
     "execution_count": 10,
     "metadata": {},
     "output_type": "execute_result"
    }
   ],
   "source": [
    "Quantity_LLY=WordsAndCoordinatesDF_Page1[WordsAndCoordinatesDF_Page1['Word'].isin(['Quantity'])]['lly'].values[0]+20\n",
    "Itinerary_ULY=WordsAndCoordinatesDF_Page1[WordsAndCoordinatesDF_Page1['Word'].isin(['Itinerary'])]['uly'].values[0]-20\n",
    "Equip_LRX=WordsAndCoordinatesDF_Page1[WordsAndCoordinatesDF_Page1['Word'].isin(['Equip'])]['lrx'].values[0]\n",
    "Pack_LLX=WordsAndCoordinatesDF_Page1[WordsAndCoordinatesDF_Page1['Word'].isin(['Pack.'])]['llx'].values[0]\n",
    "GrossWeight=WordsAndCoordinatesDF_Page1[(WordsAndCoordinatesDF_Page1['lly']>Quantity_LLY) &\n",
    "                                        (WordsAndCoordinatesDF_Page1['uly']<Itinerary_ULY) &\n",
    "                                        (WordsAndCoordinatesDF_Page1['llx']>Equip_LRX) &\n",
    "                                        (WordsAndCoordinatesDF_Page1['lrx']<Pack_LLX)]\n",
    "GrossWeight=\" \".join(GrossWeight['Word'].values).strip()\n",
    "GrossWeight"
   ]
  },
  {
   "cell_type": "code",
   "execution_count": 11,
   "metadata": {},
   "outputs": [
    {
     "data": {
      "text/plain": [
       "'1 Piece(s)'"
      ]
     },
     "execution_count": 11,
     "metadata": {},
     "output_type": "execute_result"
    }
   ],
   "source": [
    "Quantity_LLY=WordsAndCoordinatesDF_Page1[WordsAndCoordinatesDF_Page1['Word'].isin(['Quantity'])]['lly'].values[0]+20\n",
    "Itinerary_ULY=WordsAndCoordinatesDF_Page1[WordsAndCoordinatesDF_Page1['Word'].isin(['Itinerary'])]['uly'].values[0]-20\n",
    "Weight_LRX=WordsAndCoordinatesDF_Page1[WordsAndCoordinatesDF_Page1['Word'].isin(['Weight'])]['lrx'].values[0]+40\n",
    "Cargo_LLX=WordsAndCoordinatesDF_Page1[WordsAndCoordinatesDF_Page1['Word'].isin(['Volume'])]['llx'].values[0]\n",
    "PackQuantity=WordsAndCoordinatesDF_Page1[(WordsAndCoordinatesDF_Page1['lly']>Quantity_LLY) &\n",
    "                                         (WordsAndCoordinatesDF_Page1['uly']<Itinerary_ULY) &\n",
    "                                         (WordsAndCoordinatesDF_Page1['llx']>Weight_LRX) &\n",
    "                                         (WordsAndCoordinatesDF_Page1['lrx']<Cargo_LLX)]\n",
    "PackQuantity=\" \".join(PackQuantity['Word'].values).strip()\n",
    "PackQuantity"
   ]
  },
  {
   "cell_type": "code",
   "execution_count": 12,
   "metadata": {},
   "outputs": [
    {
     "data": {
      "text/plain": [
       "''"
      ]
     },
     "execution_count": 12,
     "metadata": {},
     "output_type": "execute_result"
    }
   ],
   "source": [
    "Quantity_LLY=WordsAndCoordinatesDF_Page1[WordsAndCoordinatesDF_Page1['Word'].isin(['Quantity'])]['lly'].values[0]+20\n",
    "Itinerary_ULY=WordsAndCoordinatesDF_Page1[WordsAndCoordinatesDF_Page1['Word'].isin(['Itinerary'])]['uly'].values[0]-20\n",
    "Weight_LRX=WordsAndCoordinatesDF_Page1[WordsAndCoordinatesDF_Page1['Word'].isin(['Qty/Kind'])]['lrx'].values[0]+20\n",
    "CargoVolume=WordsAndCoordinatesDF_Page1[(WordsAndCoordinatesDF_Page1['lly']>Quantity_LLY) &\n",
    "                                        (WordsAndCoordinatesDF_Page1['uly']<Itinerary_ULY) &\n",
    "                                        (WordsAndCoordinatesDF_Page1['llx']>Weight_LRX)]\n",
    "CargoVolume=\" \".join(CargoVolume['Word'].values).strip()\n",
    "CargoVolume"
   ]
  },
  {
   "cell_type": "code",
   "execution_count": 13,
   "metadata": {},
   "outputs": [
    {
     "name": "stdout",
     "output_type": "stream",
     "text": [
      "Empty Container Depot || PT Mtcon Surabaya PT Mtcon Surabaya\n"
     ]
    }
   ],
   "source": [
    "Type_lly=WordsAndCoordinatesDF_Page2[WordsAndCoordinatesDF_Page2['Word'].isin(['Туре'])]['lly'].values[0]\n",
    "MaxLowerLimit = Type_lly+160\n",
    "Type_urx=WordsAndCoordinatesDF_Page2[WordsAndCoordinatesDF_Page2['Word'].isin(['Туре'])]['urx'].values[0]\n",
    "MaxURX=Type_urx+160\n",
    "LoadItineraryType=WordsAndCoordinatesDF_Page2[(WordsAndCoordinatesDF_Page2['lly']>Type_lly) &\n",
    "                                              (WordsAndCoordinatesDF_Page2['lly']<MaxLowerLimit) &\n",
    "                                              (WordsAndCoordinatesDF_Page2['lrx']<MaxURX)]\n",
    "LoadItineraryType=\" \".join(LoadItineraryType['Word'].values)\n",
    "Location_lly=WordsAndCoordinatesDF_Page2[WordsAndCoordinatesDF_Page2['Word'].isin(['Location'])]['lly'].values[0]\n",
    "MaxLowerLimit = Location_lly+160\n",
    "Type_urx=WordsAndCoordinatesDF_Page2[WordsAndCoordinatesDF_Page2['Word'].isin(['Туре'])]['urx'].values[0]\n",
    "MaxURX=Type_urx+160\n",
    "Release_llx=WordsAndCoordinatesDF_Page2[WordsAndCoordinatesDF_Page2['Word'].isin(['Release'])]['ulx'].values[0]\n",
    "LoadItineraryLocation=WordsAndCoordinatesDF_Page2[(WordsAndCoordinatesDF_Page2['lly']>Location_lly) &\n",
    "                                                  (WordsAndCoordinatesDF_Page2['lly']<MaxLowerLimit) &\n",
    "                                                  (WordsAndCoordinatesDF_Page2['lrx']<Release_llx) &\n",
    "                                                  (WordsAndCoordinatesDF_Page2['llx']>MaxURX)]\n",
    "LoadItineraryLocation=\" \".join(LoadItineraryLocation['Word'].values)\n",
    "print(str(LoadItineraryType)+\" || \"+str(LoadItineraryLocation))"
   ]
  },
  {
   "cell_type": "code",
   "execution_count": 14,
   "metadata": {},
   "outputs": [
    {
     "data": {
      "text/plain": [
       "'CONTI DARWIN'"
      ]
     },
     "execution_count": 14,
     "metadata": {},
     "output_type": "execute_result"
    }
   ],
   "source": [
    "Vessel_lly=WordsAndCoordinatesDF_Page2[WordsAndCoordinatesDF_Page2['Word'].isin(['Vessel'])]['lly'].values[0]+20\n",
    "max_lly=Vessel_lly+80\n",
    "Vessel_llx=WordsAndCoordinatesDF_Page2[WordsAndCoordinatesDF_Page2['Word'].isin(['Vessel'])]['llx'].values[0]\n",
    "Voy_llx=WordsAndCoordinatesDF_Page2[WordsAndCoordinatesDF_Page2['Word'].isin(['Voy'])]['llx'].values[0]\n",
    "TransportPlanVessel=WordsAndCoordinatesDF_Page2[(WordsAndCoordinatesDF_Page2['lly']>Vessel_lly) &\n",
    "                                                (WordsAndCoordinatesDF_Page2['lly']<max_lly) &\n",
    "                                                (WordsAndCoordinatesDF_Page2['llx']>=Vessel_llx) &\n",
    "                                                (WordsAndCoordinatesDF_Page2['lrx']<Voy_llx)]\n",
    "TransportPlanVessel=\" \".join(TransportPlanVessel['Word'].values)\n",
    "TransportPlanVessel"
   ]
  },
  {
   "cell_type": "code",
   "execution_count": 15,
   "metadata": {},
   "outputs": [
    {
     "data": {
      "text/plain": [
       "'027N'"
      ]
     },
     "execution_count": 15,
     "metadata": {},
     "output_type": "execute_result"
    }
   ],
   "source": [
    "Voy_lly=WordsAndCoordinatesDF_Page2[WordsAndCoordinatesDF_Page2['Word'].isin(['Voy'])]['lly'].values[0]+20\n",
    "max_lly=Voy_lly+80\n",
    "Voy_llx=WordsAndCoordinatesDF_Page2[WordsAndCoordinatesDF_Page2['Word'].isin(['Voy'])]['llx'].values[0]\n",
    "ETD_llx=WordsAndCoordinatesDF_Page2[WordsAndCoordinatesDF_Page2['Word'].isin(['ETD'])]['llx'].values[0]\n",
    "TransportVoyNumber=WordsAndCoordinatesDF_Page2[(WordsAndCoordinatesDF_Page2['lly']>Voy_lly) &\n",
    "                                               (WordsAndCoordinatesDF_Page2['lly']<max_lly) &\n",
    "                                               (WordsAndCoordinatesDF_Page2['llx']>=Voy_llx) &\n",
    "                                               (WordsAndCoordinatesDF_Page2['lrx']<ETD_llx)]\n",
    "TransportVoyNumber=\" \".join(TransportVoyNumber['Word'].values)\n",
    "TransportVoyNumber"
   ]
  },
  {
   "cell_type": "code",
   "execution_count": 16,
   "metadata": {},
   "outputs": [
    {
     "data": {
      "text/plain": [
       "'2020-07-04'"
      ]
     },
     "execution_count": 16,
     "metadata": {},
     "output_type": "execute_result"
    }
   ],
   "source": [
    "ETD_lly=WordsAndCoordinatesDF_Page2[WordsAndCoordinatesDF_Page2['Word'].isin(['ETD'])]['lly'].values[0]\n",
    "max_lly=Voy_lly+80\n",
    "ETD_llx=WordsAndCoordinatesDF_Page2[WordsAndCoordinatesDF_Page2['Word'].isin(['ETD'])]['llx'].values[0]-20\n",
    "ETA_llx=WordsAndCoordinatesDF_Page2[WordsAndCoordinatesDF_Page2['Word'].isin(['ЕТА'])]['llx'].values[0]\n",
    "TransportPlanETD=WordsAndCoordinatesDF_Page2[(WordsAndCoordinatesDF_Page2['lly']>ETD_lly) &\n",
    "                                             (WordsAndCoordinatesDF_Page2['lly']<max_lly) &\n",
    "                                             (WordsAndCoordinatesDF_Page2['llx']>=ETD_llx) &\n",
    "                                             (WordsAndCoordinatesDF_Page2['lrx']<ETA_llx)]\n",
    "TransportPlanETD=\" \".join(TransportPlanETD['Word'].values)\n",
    "TransportPlanETD"
   ]
  },
  {
   "cell_type": "code",
   "execution_count": 17,
   "metadata": {},
   "outputs": [
    {
     "data": {
      "text/plain": [
       "'2020-07-10'"
      ]
     },
     "execution_count": 17,
     "metadata": {},
     "output_type": "execute_result"
    }
   ],
   "source": [
    "ETA_lly=WordsAndCoordinatesDF_Page2[WordsAndCoordinatesDF_Page2['Word'].isin(['ЕТА'])]['lly'].values[0]\n",
    "max_lly=ETA_lly+80\n",
    "ETA_llx=WordsAndCoordinatesDF_Page2[WordsAndCoordinatesDF_Page2['Word'].isin(['ЕТА'])]['llx'].values[0]-20\n",
    "TransportPlanETA=WordsAndCoordinatesDF_Page2[(WordsAndCoordinatesDF_Page2['lly']>ETA_lly) &\n",
    "                                             (WordsAndCoordinatesDF_Page2['lly']<max_lly) &\n",
    "                                             (WordsAndCoordinatesDF_Page2['llx']>=ETA_llx)]\n",
    "TransportPlanETA=\" \".join(TransportPlanETA['Word'].values)\n",
    "TransportPlanETA"
   ]
  }
 ],
 "metadata": {
  "kernelspec": {
   "display_name": "Python 3",
   "language": "python",
   "name": "python3"
  },
  "language_info": {
   "codemirror_mode": {
    "name": "ipython",
    "version": 3
   },
   "file_extension": ".py",
   "mimetype": "text/x-python",
   "name": "python",
   "nbconvert_exporter": "python",
   "pygments_lexer": "ipython3",
   "version": "3.7.7"
  }
 },
 "nbformat": 4,
 "nbformat_minor": 4
}
